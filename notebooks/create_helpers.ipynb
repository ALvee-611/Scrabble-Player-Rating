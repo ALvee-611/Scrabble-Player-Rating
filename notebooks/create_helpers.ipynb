{
 "cells": [
  {
   "cell_type": "markdown",
   "metadata": {},
   "source": [
    "# Loading Required dependencies"
   ]
  },
  {
   "cell_type": "code",
   "execution_count": 2,
   "metadata": {},
   "outputs": [],
   "source": [
    "import pandas as pd\n",
    "import numpy as np\n",
    "import matplotlib.pyplot as plt\n",
    "import seaborn as sns\n",
    "\n",
    "from collections import defaultdict\n",
    "\n",
    "import os"
   ]
  },
  {
   "cell_type": "markdown",
   "metadata": {},
   "source": [
    "# Function to load data\n",
    "\n",
    "All the data are saved in the `data` folder. It contains not only the raw data, but also all the preprocessed data since I donot want to have to keep running the prepocessing steps. So I would like to create a function that loads all the data from the subfolders in the data folder as needed."
   ]
  },
  {
   "cell_type": "code",
   "execution_count": 6,
   "metadata": {},
   "outputs": [
    {
     "data": {
      "text/html": [
       "<div>\n",
       "<style scoped>\n",
       "    .dataframe tbody tr th:only-of-type {\n",
       "        vertical-align: middle;\n",
       "    }\n",
       "\n",
       "    .dataframe tbody tr th {\n",
       "        vertical-align: top;\n",
       "    }\n",
       "\n",
       "    .dataframe thead th {\n",
       "        text-align: right;\n",
       "    }\n",
       "</style>\n",
       "<table border=\"1\" class=\"dataframe\">\n",
       "  <thead>\n",
       "    <tr style=\"text-align: right;\">\n",
       "      <th></th>\n",
       "      <th>game_id</th>\n",
       "      <th>nickname</th>\n",
       "      <th>score</th>\n",
       "      <th>rating</th>\n",
       "    </tr>\n",
       "  </thead>\n",
       "  <tbody>\n",
       "    <tr>\n",
       "      <th>0</th>\n",
       "      <td>1</td>\n",
       "      <td>BetterBot</td>\n",
       "      <td>335</td>\n",
       "      <td>1637</td>\n",
       "    </tr>\n",
       "    <tr>\n",
       "      <th>1</th>\n",
       "      <td>1</td>\n",
       "      <td>stevy</td>\n",
       "      <td>429</td>\n",
       "      <td>1500</td>\n",
       "    </tr>\n",
       "    <tr>\n",
       "      <th>2</th>\n",
       "      <td>3</td>\n",
       "      <td>davidavid</td>\n",
       "      <td>440</td>\n",
       "      <td>1811</td>\n",
       "    </tr>\n",
       "    <tr>\n",
       "      <th>3</th>\n",
       "      <td>3</td>\n",
       "      <td>BetterBot</td>\n",
       "      <td>318</td>\n",
       "      <td>2071</td>\n",
       "    </tr>\n",
       "    <tr>\n",
       "      <th>4</th>\n",
       "      <td>4</td>\n",
       "      <td>Inandoutworker</td>\n",
       "      <td>119</td>\n",
       "      <td>1473</td>\n",
       "    </tr>\n",
       "  </tbody>\n",
       "</table>\n",
       "</div>"
      ],
      "text/plain": [
       "   game_id        nickname  score  rating\n",
       "0        1       BetterBot    335    1637\n",
       "1        1           stevy    429    1500\n",
       "2        3       davidavid    440    1811\n",
       "3        3       BetterBot    318    2071\n",
       "4        4  Inandoutworker    119    1473"
      ]
     },
     "execution_count": 6,
     "metadata": {},
     "output_type": "execute_result"
    }
   ],
   "source": [
    "def get_data(folder_name, file_name):\n",
    "    \"\"\"\n",
    "        loads the 'file_name' csv file from the 'folder_name' folder\n",
    "        get_data(folder_name, file_name) : Str Str -> Pandas DataFrame \n",
    "    \"\"\"\n",
    "    source_path = os.path.join('..\\data', folder_name)\n",
    "    if file_name == 'sample_submission.csv':\n",
    "        path_data = os.path.join(source_path, file_name)\n",
    "        data_df = pd.read_csv(path_data)\n",
    "    elif file_name == 'train.csv':\n",
    "        path_data = os.path.join(source_path, file_name)\n",
    "        data_df = pd.read_csv(path_data)\n",
    "    elif file_name == 'games.csv':\n",
    "        path_data = os.path.join(source_path, file_name)\n",
    "        data_df = pd.read_csv(path_data, parse_dates = ['created_at'])\n",
    "    elif file_name == 'turns.csv':\n",
    "        path_data = os.path.join(source_path, file_name)\n",
    "        data_df = pd.read_csv(path_data)\n",
    "    else:\n",
    "        path_data = os.path.join(source_path, file_name)\n",
    "        data_df = pd.read_csv(path_data)\n",
    "    return data_df\n",
    "\n",
    "## Test\n",
    "train_data = get_data('main_data', 'train.csv')\n",
    "train_data.head()"
   ]
  },
  {
   "cell_type": "markdown",
   "metadata": {},
   "source": [
    "# Creating a custom Scikit-Learn Transformer:\n",
    "\n",
    "we need to predict the ratings for the human players but we are given data for both human and bot players for each game. So, the data for the bot players will clearly be helpful in predicting the human players ratings, so I would like to extract the data for the bots and add them as feature columns for the human players"
   ]
  },
  {
   "cell_type": "code",
   "execution_count": 17,
   "metadata": {},
   "outputs": [
    {
     "data": {
      "text/html": [
       "<div>\n",
       "<style scoped>\n",
       "    .dataframe tbody tr th:only-of-type {\n",
       "        vertical-align: middle;\n",
       "    }\n",
       "\n",
       "    .dataframe tbody tr th {\n",
       "        vertical-align: top;\n",
       "    }\n",
       "\n",
       "    .dataframe thead th {\n",
       "        text-align: right;\n",
       "    }\n",
       "</style>\n",
       "<table border=\"1\" class=\"dataframe\">\n",
       "  <thead>\n",
       "    <tr style=\"text-align: right;\">\n",
       "      <th></th>\n",
       "      <th>game_id</th>\n",
       "      <th>nickname</th>\n",
       "      <th>score</th>\n",
       "      <th>bot_nickname</th>\n",
       "      <th>bot_score</th>\n",
       "      <th>bot_rating</th>\n",
       "      <th>rating</th>\n",
       "    </tr>\n",
       "  </thead>\n",
       "  <tbody>\n",
       "    <tr>\n",
       "      <th>1</th>\n",
       "      <td>1</td>\n",
       "      <td>stevy</td>\n",
       "      <td>429</td>\n",
       "      <td>BetterBot</td>\n",
       "      <td>335</td>\n",
       "      <td>1637</td>\n",
       "      <td>1500</td>\n",
       "    </tr>\n",
       "    <tr>\n",
       "      <th>2</th>\n",
       "      <td>3</td>\n",
       "      <td>davidavid</td>\n",
       "      <td>440</td>\n",
       "      <td>BetterBot</td>\n",
       "      <td>318</td>\n",
       "      <td>2071</td>\n",
       "      <td>1811</td>\n",
       "    </tr>\n",
       "    <tr>\n",
       "      <th>4</th>\n",
       "      <td>4</td>\n",
       "      <td>Inandoutworker</td>\n",
       "      <td>119</td>\n",
       "      <td>BetterBot</td>\n",
       "      <td>478</td>\n",
       "      <td>1936</td>\n",
       "      <td>1473</td>\n",
       "    </tr>\n",
       "    <tr>\n",
       "      <th>6</th>\n",
       "      <td>5</td>\n",
       "      <td>stevy</td>\n",
       "      <td>325</td>\n",
       "      <td>STEEBot</td>\n",
       "      <td>427</td>\n",
       "      <td>1844</td>\n",
       "      <td>1500</td>\n",
       "    </tr>\n",
       "    <tr>\n",
       "      <th>8</th>\n",
       "      <td>6</td>\n",
       "      <td>HivinD</td>\n",
       "      <td>378</td>\n",
       "      <td>STEEBot</td>\n",
       "      <td>427</td>\n",
       "      <td>2143</td>\n",
       "      <td>2029</td>\n",
       "    </tr>\n",
       "  </tbody>\n",
       "</table>\n",
       "</div>"
      ],
      "text/plain": [
       "   game_id        nickname  score bot_nickname  bot_score  bot_rating  rating\n",
       "1        1           stevy    429    BetterBot        335        1637    1500\n",
       "2        3       davidavid    440    BetterBot        318        2071    1811\n",
       "4        4  Inandoutworker    119    BetterBot        478        1936    1473\n",
       "6        5           stevy    325      STEEBot        427        1844    1500\n",
       "8        6          HivinD    378      STEEBot        427        2143    2029"
      ]
     },
     "execution_count": 17,
     "metadata": {},
     "output_type": "execute_result"
    }
   ],
   "source": [
    "from sklearn.base import BaseEstimator, TransformerMixin\n",
    "\n",
    "class AddBotFeatures (BaseEstimator, TransformerMixin):\n",
    "    def __init__(self):\n",
    "        return None\n",
    "    def fit(self, X):\n",
    "        return self\n",
    "    def transform (self, X):\n",
    "        bot_names = ['BetterBot', 'STEEBot', 'HastyBot']\n",
    "        bot_data = X.loc[X['nickname'].isin(bot_names)].copy()\n",
    "        bot_data.rename(columns={'nickname':'bot_nickname', 'score': 'bot_score', 'rating': 'bot_rating'}, inplace= True )\n",
    "        human_data = X.loc[~X['nickname'].isin(bot_names)].copy()\n",
    "        \n",
    "        # Join the two dataframe\n",
    "        new_df = human_data.join(bot_data.set_index('game_id'), on='game_id')\n",
    "\n",
    "        # Move the rating column to the end\n",
    "        column_to_move = new_df.pop(\"rating\")\n",
    "\n",
    "        new_df.insert(6, \"rating\", column_to_move)\n",
    "\n",
    "        return new_df\n",
    "\n",
    "\n",
    "# Test\n",
    "new_train = AddBotFeatures()\n",
    "\n",
    "training_data = new_train.fit_transform(train_data)\n",
    "\n",
    "training_data.head()\n",
    "        "
   ]
  },
  {
   "cell_type": "markdown",
   "metadata": {},
   "source": [
    "# Split data into train-test-val"
   ]
  },
  {
   "cell_type": "code",
   "execution_count": 21,
   "metadata": {},
   "outputs": [
    {
     "data": {
      "text/plain": [
       "(15123, 6)"
      ]
     },
     "execution_count": 21,
     "metadata": {},
     "output_type": "execute_result"
    }
   ],
   "source": [
    "from sklearn.model_selection import train_test_split\n",
    "\n",
    "\n",
    "def split_data(df):\n",
    "    \"\"\"Splits df into training, testing and validation sets\n",
    "        split_data: Pandas DataFrame -> Pandas DataFrame, Pandas DataFrame, Pandas DataFrame, Pandas DataFrame\n",
    "    \"\"\"\n",
    "    X_data = df.drop(columns = \"rating\")\n",
    "    train_y = df[\"rating\"].copy()\n",
    "    X_train, X_test, y_train, y_test = train_test_split(X_data, train_y, test_size=0.3, random_state=123)\n",
    "    return X_train, X_test, y_train, y_test\n",
    "\n",
    "# Test\n",
    "X_train, X_test, y_train, y_test = split_data(training_data)\n",
    "\n",
    "X_test.shape                                                                                                                                                                                                                                                                                                                                                                                                                                                                                                                                                                                                                                                                                                                                                                                                                                                                                                                                                                                                                                                                                                                                                                                                                                                                                                                                                                                                                                                                                                                                                                                                                                                                                                                                                                                                                                                                                                                                                                                                                                                                                                                                                                                                                                                                                                                                                                                                                                                                                                                                                                                                                                                                                                                                                                                                                                                                                                                                                                                                                                                                                                                                                                                                                                                                                                                                                                                                                                                                                                                                                                                                                                                                                                                                                                                                                                                                                                                                                                                                                                                                                                                                                                                                                                                                                                                                                                                                                                                                                                                                                                                                                                                                                                                                                                                                                                                                                                                                                                                                                                                                                                                                                                                                                                                                                                                                                                                                                                                                                                                                                                                                                                                                                                                                                                                                                                                                                                                                                                                                                                                                                                                                                                                                                                                                                                                                                                                                                                                                                                                                    "
   ]
  },
  {
   "cell_type": "code",
   "execution_count": 22,
   "metadata": {},
   "outputs": [
    {
     "data": {
      "text/html": [
       "<div>\n",
       "<style scoped>\n",
       "    .dataframe tbody tr th:only-of-type {\n",
       "        vertical-align: middle;\n",
       "    }\n",
       "\n",
       "    .dataframe tbody tr th {\n",
       "        vertical-align: top;\n",
       "    }\n",
       "\n",
       "    .dataframe thead th {\n",
       "        text-align: right;\n",
       "    }\n",
       "</style>\n",
       "<table border=\"1\" class=\"dataframe\">\n",
       "  <thead>\n",
       "    <tr style=\"text-align: right;\">\n",
       "      <th></th>\n",
       "      <th>game_id</th>\n",
       "      <th>nickname</th>\n",
       "      <th>score</th>\n",
       "      <th>bot_nickname</th>\n",
       "      <th>bot_score</th>\n",
       "      <th>bot_rating</th>\n",
       "    </tr>\n",
       "  </thead>\n",
       "  <tbody>\n",
       "    <tr>\n",
       "      <th>38284</th>\n",
       "      <td>27623</td>\n",
       "      <td>BB-8</td>\n",
       "      <td>440</td>\n",
       "      <td>HastyBot</td>\n",
       "      <td>333</td>\n",
       "      <td>1664</td>\n",
       "    </tr>\n",
       "    <tr>\n",
       "      <th>16334</th>\n",
       "      <td>11732</td>\n",
       "      <td>jodel</td>\n",
       "      <td>380</td>\n",
       "      <td>BetterBot</td>\n",
       "      <td>425</td>\n",
       "      <td>1966</td>\n",
       "    </tr>\n",
       "    <tr>\n",
       "      <th>64835</th>\n",
       "      <td>46774</td>\n",
       "      <td>BB-8</td>\n",
       "      <td>430</td>\n",
       "      <td>HastyBot</td>\n",
       "      <td>307</td>\n",
       "      <td>1640</td>\n",
       "    </tr>\n",
       "    <tr>\n",
       "      <th>61653</th>\n",
       "      <td>44462</td>\n",
       "      <td>Yuki86</td>\n",
       "      <td>260</td>\n",
       "      <td>STEEBot</td>\n",
       "      <td>630</td>\n",
       "      <td>2071</td>\n",
       "    </tr>\n",
       "    <tr>\n",
       "      <th>41920</th>\n",
       "      <td>30222</td>\n",
       "      <td>PVMG</td>\n",
       "      <td>395</td>\n",
       "      <td>BetterBot</td>\n",
       "      <td>364</td>\n",
       "      <td>1810</td>\n",
       "    </tr>\n",
       "  </tbody>\n",
       "</table>\n",
       "</div>"
      ],
      "text/plain": [
       "       game_id nickname  score bot_nickname  bot_score  bot_rating\n",
       "38284    27623     BB-8    440     HastyBot        333        1664\n",
       "16334    11732    jodel    380    BetterBot        425        1966\n",
       "64835    46774     BB-8    430     HastyBot        307        1640\n",
       "61653    44462   Yuki86    260      STEEBot        630        2071\n",
       "41920    30222     PVMG    395    BetterBot        364        1810"
      ]
     },
     "execution_count": 22,
     "metadata": {},
     "output_type": "execute_result"
    }
   ],
   "source": [
    "X_train"
   ]
  },
  {
   "cell_type": "code",
   "execution_count": 51,
   "metadata": {},
   "outputs": [
    {
     "data": {
      "text/plain": [
       "array([[ 0.8784874 , -1.26119438,  0.        ,  1.        ,  0.        ],\n",
       "       [ 0.05168372,  0.04482351,  1.        ,  0.        ,  0.        ],\n",
       "       [ 0.74068679, -1.63028639,  0.        ,  1.        ,  0.        ],\n",
       "       ...,\n",
       "       [-1.2574221 , -0.09713496,  0.        ,  1.        ,  0.        ],\n",
       "       [ 1.04384814, -0.12552665,  0.        ,  1.        ,  0.        ],\n",
       "       [-0.71999971,  1.43601647,  0.        ,  0.        ,  1.        ]])"
      ]
     },
     "execution_count": 51,
     "metadata": {},
     "output_type": "execute_result"
    }
   ],
   "source": [
    "# Standardize the score, bot_score and bot_rating\n",
    "Preprocess = ColumnTransformer([\n",
    "    ('StandardScaler', StandardScaler(), [2,4]),\n",
    "    ('oneHotEncoding', OneHotEncoder(), [3])\n",
    "])\n",
    "\n",
    "train_X = Preprocess.fit_transform(X_train)\n",
    "\n",
    "train_X"
   ]
  },
  {
   "cell_type": "code",
   "execution_count": 8,
   "metadata": {},
   "outputs": [],
   "source": [
    "from sklearn.ensemble import RandomForestRegressor\n",
    "from sklearn.model_selection import RandomizedSearchCV\n",
    "\n",
    "rf = RandomForestRegressor(random_state=123, criterion='squared_error')\n"
   ]
  },
  {
   "cell_type": "code",
   "execution_count": 9,
   "metadata": {},
   "outputs": [
    {
     "data": {
      "text/plain": [
       "{'bootstrap': True,\n",
       " 'ccp_alpha': 0.0,\n",
       " 'criterion': 'squared_error',\n",
       " 'max_depth': None,\n",
       " 'max_features': 'auto',\n",
       " 'max_leaf_nodes': None,\n",
       " 'max_samples': None,\n",
       " 'min_impurity_decrease': 0.0,\n",
       " 'min_samples_leaf': 1,\n",
       " 'min_samples_split': 2,\n",
       " 'min_weight_fraction_leaf': 0.0,\n",
       " 'n_estimators': 100,\n",
       " 'n_jobs': None,\n",
       " 'oob_score': False,\n",
       " 'random_state': 123,\n",
       " 'verbose': 0,\n",
       " 'warm_start': False}"
      ]
     },
     "execution_count": 9,
     "metadata": {},
     "output_type": "execute_result"
    }
   ],
   "source": [
    "rf.get_params()"
   ]
  },
  {
   "cell_type": "code",
   "execution_count": 10,
   "metadata": {},
   "outputs": [],
   "source": [
    "n_estimators = [int(i) for i in np.linspace(100, 2000, num = 15)]\n",
    "max_features = ['auto', 'sqrt']\n",
    "max_depth = [int(i) for i in np.linspace(10,100, num = 10)]\n",
    "min_sample_split = [2,5,10]\n",
    "min_sample_leaf = [2,4,6]\n",
    "bootstrap = [True, False]\n",
    "\n",
    "param_grid = {'n_estimators':n_estimators,\n",
    "'max_features': max_features,\n",
    "'max_depth':max_depth,\n",
    "'min_samples_split': min_sample_split,\n",
    "'min_samples_leaf': min_sample_leaf,\n",
    "'bootstrap': bootstrap\n",
    "}\n",
    "\n",
    "rf_random = RandomizedSearchCV(rf, param_distributions=param_grid, n_iter = 100, cv = 5, random_state=123, n_jobs=-1)"
   ]
  },
  {
   "cell_type": "code",
   "execution_count": 68,
   "metadata": {},
   "outputs": [
    {
     "data": {
      "text/plain": [
       "RandomizedSearchCV(cv=5, estimator=RandomForestRegressor(random_state=123),\n",
       "                   n_iter=100, n_jobs=-1,\n",
       "                   param_distributions={'bootstrap': [True, False],\n",
       "                                        'max_depth': [10, 20, 30, 40, 50, 60,\n",
       "                                                      70, 80, 90, 100],\n",
       "                                        'max_features': ['auto', 'sqrt'],\n",
       "                                        'min_samples_leaf': [2, 4, 6],\n",
       "                                        'min_samples_split': [2, 5, 10],\n",
       "                                        'n_estimators': [100, 235, 371, 507,\n",
       "                                                         642, 778, 914, 1050,\n",
       "                                                         1185, 1321, 1457, 1592,\n",
       "                                                         1728, 1864, 2000]},\n",
       "                   random_state=123)"
      ]
     },
     "execution_count": 68,
     "metadata": {},
     "output_type": "execute_result"
    }
   ],
   "source": [
    "rf_random.fit(train_X, y_train)"
   ]
  },
  {
   "cell_type": "code",
   "execution_count": 37,
   "metadata": {},
   "outputs": [],
   "source": [
    "from sklearn.model_selection import GridSearchCV\n",
    "\n",
    "n_estimators = [int(i) for i in np.linspace(1700, 1850, num = 4)]\n",
    "n_estimators.append(1728)\n",
    "max_features = ['auto', 'sqrt']\n",
    "max_depth = [int(i) for i in np.linspace(2,12, num = 4)]\n",
    "min_sample_split = [3,4,5,6]\n",
    "min_sample_leaf = [1,2,3,4,5]\n",
    "bootstrap = [True, False]\n",
    "\n",
    "grid_param = {'n_estimators':n_estimators,\n",
    "'max_features': max_features,\n",
    "'max_depth':max_depth,\n",
    "'min_samples_split': min_sample_split,\n",
    "'min_samples_leaf': min_sample_leaf,\n",
    "'bootstrap': bootstrap\n",
    "}\n",
    "\n",
    "rf_search = RandomizedSearchCV(estimator = rf, param_distributions = grid_param, n_iter = 10, cv = 3, scoring = 'neg_mean_squared_error', return_train_score = True)"
   ]
  },
  {
   "cell_type": "code",
   "execution_count": 38,
   "metadata": {},
   "outputs": [
    {
     "data": {
      "text/plain": [
       "RandomizedSearchCV(cv=3, estimator=RandomForestRegressor(random_state=123),\n",
       "                   param_distributions={'bootstrap': [True, False],\n",
       "                                        'max_depth': [2, 5, 8, 12],\n",
       "                                        'max_features': ['auto', 'sqrt'],\n",
       "                                        'min_samples_leaf': [1, 2, 3, 4, 5],\n",
       "                                        'min_samples_split': [3, 4, 5, 6],\n",
       "                                        'n_estimators': [1700, 1750, 1800, 1850,\n",
       "                                                         1728]},\n",
       "                   return_train_score=True, scoring='neg_mean_squared_error')"
      ]
     },
     "execution_count": 38,
     "metadata": {},
     "output_type": "execute_result"
    }
   ],
   "source": [
    "rf_search.fit(train_X, y_train)"
   ]
  },
  {
   "cell_type": "code",
   "execution_count": 62,
   "metadata": {},
   "outputs": [
    {
     "data": {
      "text/plain": [
       "{'n_estimators': 1728,\n",
       " 'min_samples_split': 5,\n",
       " 'min_samples_leaf': 4,\n",
       " 'max_features': 'auto',\n",
       " 'max_depth': 5,\n",
       " 'bootstrap': True}"
      ]
     },
     "execution_count": 62,
     "metadata": {},
     "output_type": "execute_result"
    }
   ],
   "source": [
    "rf_search.best_params_"
   ]
  },
  {
   "cell_type": "code",
   "execution_count": null,
   "metadata": {},
   "outputs": [],
   "source": [
    "test_X = Preprocess.transform(X_test)\n",
    "\n",
    "best_model = rf_search.best_estimator_\n",
    "\n",
    "predictions = best_model.predict(test_X)\n",
    "\n",
    "error = abs(predictions - y_test)\n",
    "\n",
    "rmse = np.sqrt(np.mean(error))\n",
    "\n",
    "rmse"
   ]
  },
  {
   "cell_type": "code",
   "execution_count": 80,
   "metadata": {},
   "outputs": [
    {
     "data": {
      "text/plain": [
       "12.843616581358512"
      ]
     },
     "execution_count": 80,
     "metadata": {},
     "output_type": "execute_result"
    }
   ],
   "source": [
    "def evaluate_model(test_data,true_labels, model):\n",
    "    \"\"\"\n",
    "        evaluate model return the RMSE of the model\n",
    "    \"\"\"\n",
    "    test_X = Preprocess.transform(test_data)\n",
    "    best_model = model.best_estimator_\n",
    "    predictions = best_model.predict(test_X)\n",
    "    error = abs(predictions - true_labels)\n",
    "    rmse = np.sqrt(np.mean(error))\n",
    "    return rmse\n",
    "\n",
    "# Test\n",
    "evaluate_model(X_test, y_test, rf_search)"
   ]
  },
  {
   "cell_type": "code",
   "execution_count": 42,
   "metadata": {},
   "outputs": [],
   "source": [
    "import joblib\n",
    "\n",
    "def save_model(model, model_name):\n",
    "    \"\"\"\n",
    "        save_model saves the model in the model folder\n",
    "        save_model(model,model_name): ML model Str -> None\n",
    "    \"\"\"\n",
    "    model_n = model_name + '.pkl'\n",
    "    model_path = os.path.join('../model', model_n)\n",
    "    joblib.dump(model, model_path)"
   ]
  },
  {
   "cell_type": "code",
   "execution_count": 73,
   "metadata": {},
   "outputs": [],
   "source": [
    "def load_model(model_name):\n",
    "    \"\"\"\n",
    "        load_model loads the model named 'model_name'\n",
    "    \"\"\"\n",
    "    model_n = model_name + '.pkl'\n",
    "    model_path = os.path.join('../model', model_n)\n",
    "    load_rf = joblib.load(model_path)\n",
    "    return load_rf"
   ]
  },
  {
   "cell_type": "code",
   "execution_count": 74,
   "metadata": {},
   "outputs": [],
   "source": [
    "# Test\n",
    "new_model = load_model('random_forest')"
   ]
  },
  {
   "cell_type": "code",
   "execution_count": 43,
   "metadata": {},
   "outputs": [],
   "source": [
    "save_model(best_model, 'new_rf_model')"
   ]
  },
  {
   "cell_type": "code",
   "execution_count": 83,
   "metadata": {},
   "outputs": [],
   "source": [
    "def save_submission(submission_name, model):\n",
    "\n",
    "    sample_submission = get_data('main_data', 'sample_submission.csv')\n",
    "    \n",
    "    test_data = get_data('main_data', 'test.csv')\n",
    "\n",
    "    testing_data = new_train.transform(test_data)\n",
    "    testing_data.drop(columns = 'rating', inplace = True)\n",
    "\n",
    "    scaled_testing = Preprocess.transform(testing_data)\n",
    "\n",
    "    rating = model.predict(scaled_testing)\n",
    "    sample_submission['rating'] = rating\n",
    "\n",
    "    file_name = submission_name + '.csv'\n",
    "    prediction_path = os.path.join('../predictions', file_name)\n",
    "    sample_submission.to_csv(prediction_path, index = False)\n",
    "\n",
    "    return sample_submission"
   ]
  },
  {
   "cell_type": "code",
   "execution_count": 84,
   "metadata": {},
   "outputs": [
    {
     "data": {
      "text/html": [
       "<div>\n",
       "<style scoped>\n",
       "    .dataframe tbody tr th:only-of-type {\n",
       "        vertical-align: middle;\n",
       "    }\n",
       "\n",
       "    .dataframe tbody tr th {\n",
       "        vertical-align: top;\n",
       "    }\n",
       "\n",
       "    .dataframe thead th {\n",
       "        text-align: right;\n",
       "    }\n",
       "</style>\n",
       "<table border=\"1\" class=\"dataframe\">\n",
       "  <thead>\n",
       "    <tr style=\"text-align: right;\">\n",
       "      <th></th>\n",
       "      <th>game_id</th>\n",
       "      <th>rating</th>\n",
       "    </tr>\n",
       "  </thead>\n",
       "  <tbody>\n",
       "    <tr>\n",
       "      <th>0</th>\n",
       "      <td>2</td>\n",
       "      <td>1904.567030</td>\n",
       "    </tr>\n",
       "    <tr>\n",
       "      <th>1</th>\n",
       "      <td>7</td>\n",
       "      <td>1807.950146</td>\n",
       "    </tr>\n",
       "    <tr>\n",
       "      <th>2</th>\n",
       "      <td>11</td>\n",
       "      <td>1938.687407</td>\n",
       "    </tr>\n",
       "    <tr>\n",
       "      <th>3</th>\n",
       "      <td>14</td>\n",
       "      <td>1803.219463</td>\n",
       "    </tr>\n",
       "    <tr>\n",
       "      <th>4</th>\n",
       "      <td>27</td>\n",
       "      <td>1929.676496</td>\n",
       "    </tr>\n",
       "    <tr>\n",
       "      <th>...</th>\n",
       "      <td>...</td>\n",
       "      <td>...</td>\n",
       "    </tr>\n",
       "    <tr>\n",
       "      <th>22358</th>\n",
       "      <td>72760</td>\n",
       "      <td>1977.090705</td>\n",
       "    </tr>\n",
       "    <tr>\n",
       "      <th>22359</th>\n",
       "      <td>72761</td>\n",
       "      <td>1690.101873</td>\n",
       "    </tr>\n",
       "    <tr>\n",
       "      <th>22360</th>\n",
       "      <td>72762</td>\n",
       "      <td>1739.582866</td>\n",
       "    </tr>\n",
       "    <tr>\n",
       "      <th>22361</th>\n",
       "      <td>72768</td>\n",
       "      <td>1852.863651</td>\n",
       "    </tr>\n",
       "    <tr>\n",
       "      <th>22362</th>\n",
       "      <td>72769</td>\n",
       "      <td>1891.469714</td>\n",
       "    </tr>\n",
       "  </tbody>\n",
       "</table>\n",
       "<p>22363 rows × 2 columns</p>\n",
       "</div>"
      ],
      "text/plain": [
       "       game_id       rating\n",
       "0            2  1904.567030\n",
       "1            7  1807.950146\n",
       "2           11  1938.687407\n",
       "3           14  1803.219463\n",
       "4           27  1929.676496\n",
       "...        ...          ...\n",
       "22358    72760  1977.090705\n",
       "22359    72761  1690.101873\n",
       "22360    72762  1739.582866\n",
       "22361    72768  1852.863651\n",
       "22362    72769  1891.469714\n",
       "\n",
       "[22363 rows x 2 columns]"
      ]
     },
     "execution_count": 84,
     "metadata": {},
     "output_type": "execute_result"
    }
   ],
   "source": [
    "# Test\n",
    "save_submission('baseline', best_model)"
   ]
  }
 ],
 "metadata": {
  "kernelspec": {
   "display_name": "Python 3.9.13 ('base')",
   "language": "python",
   "name": "python3"
  },
  "language_info": {
   "codemirror_mode": {
    "name": "ipython",
    "version": 3
   },
   "file_extension": ".py",
   "mimetype": "text/x-python",
   "name": "python",
   "nbconvert_exporter": "python",
   "pygments_lexer": "ipython3",
   "version": "3.9.13"
  },
  "orig_nbformat": 4,
  "vscode": {
   "interpreter": {
    "hash": "7a0b3487c8d70829dde722e848b10b5d341fd284f85dd50d8abe9dc6718174ad"
   }
  }
 },
 "nbformat": 4,
 "nbformat_minor": 2
}
