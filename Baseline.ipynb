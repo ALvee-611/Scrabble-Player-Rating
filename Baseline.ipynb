{
  "cells": [
    {
      "cell_type": "markdown",
      "metadata": {
        "id": "fqxkLfC9OBmc"
      },
      "source": [
        "# Importing Dependencies"
      ]
    },
    {
      "cell_type": "code",
      "execution_count": 4,
      "metadata": {
        "id": "oV1ytu2uOEjr"
      },
      "outputs": [],
      "source": [
        "import pandas as pd\n",
        "import numpy as np\n",
        "import matplotlib.pyplot as plt\n",
        "import seaborn as sns\n",
        "\n",
        "from collections import defaultdict\n",
        "\n",
        "import os"
      ]
    },
    {
      "cell_type": "markdown",
      "metadata": {
        "id": "N3EV95S1OJhN"
      },
      "source": [
        "### Loading data"
      ]
    },
    {
      "cell_type": "code",
      "execution_count": 5,
      "metadata": {},
      "outputs": [],
      "source": [
        "source_path = os.path.join('data', 'main_data')\n",
        "\n",
        "for i in os.listdir(source_path):\n",
        "    if i == 'sample_submission.csv':\n",
        "        path_data = os.path.join(source_path, i)\n",
        "        sample_submission = pd.read_csv(path_data)\n",
        "    elif i == 'train.csv':\n",
        "        path_data = os.path.join(source_path, i)\n",
        "        train_data = pd.read_csv(path_data)\n",
        "    elif i == 'games.csv':\n",
        "        path_data = os.path.join(source_path, i)\n",
        "        games_data = pd.read_csv(path_data, parse_dates = ['created_at'])\n",
        "    elif i == 'turns.csv':\n",
        "        path_data = os.path.join(source_path, i)\n",
        "        turns_data = pd.read_csv(path_data)\n",
        "    else:\n",
        "        path_data = os.path.join(source_path, i)\n",
        "        test_data = pd.read_csv(path_data)"
      ]
    },
    {
      "cell_type": "markdown",
      "metadata": {
        "id": "B8KaCGBhO6Ij"
      },
      "source": [
        "Project Goal: The goal of this project is to predict the ratings of players based on their Scrabble gameplay.\n",
        "\n",
        "The games are between the bots on Woogles.io: BetterBot (beginner), STEEBot (intermediate), and HastyBot (advanced) and regular registered users. \n",
        "\n",
        "We will train our model on gameplay data from one set of human opponents to make predictions about a different set of human opponents in the test set.\n",
        "\n",
        "**Data Descriptions**\n",
        "\n",
        "* games.csv - metadata about games (e.g., who went first, time controls)\n",
        "* turns.csv - all turns from start to finish of each game\n",
        "* train.csv - final scores and ratings for each player in each game; ratings for each player are as of BEFORE the game was played\n",
        "* test.csv - final scores and ratings for each player in each game; ratings for each player are as of BEFORE the game was played\n",
        "* sample_submission.csv - a sample submission file in the correct format\n",
        "\n",
        "# EDA\n",
        "\n",
        "## Exploring the `games.csv` file\n",
        "\n",
        "We will begin our exploratory analysis with the games.csv file."
      ]
    },
    {
      "cell_type": "code",
      "execution_count": 6,
      "metadata": {
        "colab": {
          "base_uri": "https://localhost:8080/",
          "height": 337
        },
        "id": "CvMTF1HXO3EF",
        "outputId": "7a01476d-40b8-4200-a5c7-f98668aa3222"
      },
      "outputs": [
        {
          "data": {
            "text/html": [
              "<div>\n",
              "<style scoped>\n",
              "    .dataframe tbody tr th:only-of-type {\n",
              "        vertical-align: middle;\n",
              "    }\n",
              "\n",
              "    .dataframe tbody tr th {\n",
              "        vertical-align: top;\n",
              "    }\n",
              "\n",
              "    .dataframe thead th {\n",
              "        text-align: right;\n",
              "    }\n",
              "</style>\n",
              "<table border=\"1\" class=\"dataframe\">\n",
              "  <thead>\n",
              "    <tr style=\"text-align: right;\">\n",
              "      <th></th>\n",
              "      <th>game_id</th>\n",
              "      <th>first</th>\n",
              "      <th>time_control_name</th>\n",
              "      <th>game_end_reason</th>\n",
              "      <th>winner</th>\n",
              "      <th>created_at</th>\n",
              "      <th>lexicon</th>\n",
              "      <th>initial_time_seconds</th>\n",
              "      <th>increment_seconds</th>\n",
              "      <th>rating_mode</th>\n",
              "      <th>max_overtime_minutes</th>\n",
              "      <th>game_duration_seconds</th>\n",
              "    </tr>\n",
              "  </thead>\n",
              "  <tbody>\n",
              "    <tr>\n",
              "      <th>0</th>\n",
              "      <td>1</td>\n",
              "      <td>BetterBot</td>\n",
              "      <td>regular</td>\n",
              "      <td>STANDARD</td>\n",
              "      <td>1</td>\n",
              "      <td>2022-08-26 03:38:49</td>\n",
              "      <td>NWL20</td>\n",
              "      <td>1200</td>\n",
              "      <td>0</td>\n",
              "      <td>CASUAL</td>\n",
              "      <td>1</td>\n",
              "      <td>674.844274</td>\n",
              "    </tr>\n",
              "    <tr>\n",
              "      <th>1</th>\n",
              "      <td>2</td>\n",
              "      <td>Super</td>\n",
              "      <td>regular</td>\n",
              "      <td>STANDARD</td>\n",
              "      <td>1</td>\n",
              "      <td>2022-08-10 19:19:59</td>\n",
              "      <td>CSW21</td>\n",
              "      <td>3600</td>\n",
              "      <td>0</td>\n",
              "      <td>RATED</td>\n",
              "      <td>1</td>\n",
              "      <td>364.214418</td>\n",
              "    </tr>\n",
              "    <tr>\n",
              "      <th>2</th>\n",
              "      <td>3</td>\n",
              "      <td>BetterBot</td>\n",
              "      <td>regular</td>\n",
              "      <td>STANDARD</td>\n",
              "      <td>1</td>\n",
              "      <td>2022-09-04 08:04:27</td>\n",
              "      <td>CSW21</td>\n",
              "      <td>900</td>\n",
              "      <td>0</td>\n",
              "      <td>RATED</td>\n",
              "      <td>5</td>\n",
              "      <td>492.268262</td>\n",
              "    </tr>\n",
              "    <tr>\n",
              "      <th>3</th>\n",
              "      <td>4</td>\n",
              "      <td>BetterBot</td>\n",
              "      <td>regular</td>\n",
              "      <td>RESIGNED</td>\n",
              "      <td>0</td>\n",
              "      <td>2022-09-12 02:36:19</td>\n",
              "      <td>CSW21</td>\n",
              "      <td>3600</td>\n",
              "      <td>0</td>\n",
              "      <td>CASUAL</td>\n",
              "      <td>1</td>\n",
              "      <td>350.861141</td>\n",
              "    </tr>\n",
              "    <tr>\n",
              "      <th>4</th>\n",
              "      <td>5</td>\n",
              "      <td>STEEBot</td>\n",
              "      <td>regular</td>\n",
              "      <td>STANDARD</td>\n",
              "      <td>0</td>\n",
              "      <td>2022-09-06 04:31:36</td>\n",
              "      <td>NWL20</td>\n",
              "      <td>1200</td>\n",
              "      <td>0</td>\n",
              "      <td>CASUAL</td>\n",
              "      <td>1</td>\n",
              "      <td>642.688722</td>\n",
              "    </tr>\n",
              "  </tbody>\n",
              "</table>\n",
              "</div>"
            ],
            "text/plain": [
              "   game_id      first time_control_name game_end_reason  winner  \\\n",
              "0        1  BetterBot           regular        STANDARD       1   \n",
              "1        2      Super           regular        STANDARD       1   \n",
              "2        3  BetterBot           regular        STANDARD       1   \n",
              "3        4  BetterBot           regular        RESIGNED       0   \n",
              "4        5    STEEBot           regular        STANDARD       0   \n",
              "\n",
              "           created_at lexicon  initial_time_seconds  increment_seconds  \\\n",
              "0 2022-08-26 03:38:49   NWL20                  1200                  0   \n",
              "1 2022-08-10 19:19:59   CSW21                  3600                  0   \n",
              "2 2022-09-04 08:04:27   CSW21                   900                  0   \n",
              "3 2022-09-12 02:36:19   CSW21                  3600                  0   \n",
              "4 2022-09-06 04:31:36   NWL20                  1200                  0   \n",
              "\n",
              "  rating_mode  max_overtime_minutes  game_duration_seconds  \n",
              "0      CASUAL                     1             674.844274  \n",
              "1       RATED                     1             364.214418  \n",
              "2       RATED                     5             492.268262  \n",
              "3      CASUAL                     1             350.861141  \n",
              "4      CASUAL                     1             642.688722  "
            ]
          },
          "execution_count": 6,
          "metadata": {},
          "output_type": "execute_result"
        }
      ],
      "source": [
        "# first 5 entries\n",
        "games_data.head()"
      ]
    },
    {
      "cell_type": "code",
      "execution_count": 7,
      "metadata": {
        "colab": {
          "base_uri": "https://localhost:8080/"
        },
        "id": "5e1jZWFgS1IJ",
        "outputId": "ebda6179-f60a-4037-e312-d0788cf2071e"
      },
      "outputs": [
        {
          "name": "stdout",
          "output_type": "stream",
          "text": [
            "<class 'pandas.core.frame.DataFrame'>\n",
            "RangeIndex: 72773 entries, 0 to 72772\n",
            "Data columns (total 12 columns):\n",
            " #   Column                 Non-Null Count  Dtype         \n",
            "---  ------                 --------------  -----         \n",
            " 0   game_id                72773 non-null  int64         \n",
            " 1   first                  72773 non-null  object        \n",
            " 2   time_control_name      72773 non-null  object        \n",
            " 3   game_end_reason        72773 non-null  object        \n",
            " 4   winner                 72773 non-null  int64         \n",
            " 5   created_at             72773 non-null  datetime64[ns]\n",
            " 6   lexicon                72773 non-null  object        \n",
            " 7   initial_time_seconds   72773 non-null  int64         \n",
            " 8   increment_seconds      72773 non-null  int64         \n",
            " 9   rating_mode            72773 non-null  object        \n",
            " 10  max_overtime_minutes   72773 non-null  int64         \n",
            " 11  game_duration_seconds  72773 non-null  float64       \n",
            "dtypes: datetime64[ns](1), float64(1), int64(5), object(5)\n",
            "memory usage: 6.7+ MB\n"
          ]
        }
      ],
      "source": [
        "games_data.info()"
      ]
    },
    {
      "cell_type": "markdown",
      "metadata": {
        "id": "1qYYGk6BS729"
      },
      "source": [
        "There are a total of 72773 entries in our dataset.\n",
        "\n",
        "Before we proceed further, let us have a quick look at what each of these attributes mean:\n",
        "\n",
        "* game_id: unique id for the game\n",
        "* first: player who went first\n",
        "* time_control_name: Name of time control used (\"regular\", \"rapid\", or \"blitz\")\n",
        "* game_end_reason: How the game ended\n",
        "* winner: who won the game\n",
        "* created_at: the time when then the game was created\n",
        "* lexicon: English lexicon used in the game (\"CSW19\", \"NWL20\", \"CSW21\")\n",
        "* initial_time_seconds: the time limit each player has in the game\n",
        "* increment_seconds: time increment each player gets each time they play a turn\n",
        "* rating_mode: whether the game counts towards player ratings or not (\"RATED\", \"CASUAL\")\n",
        "* max_overtime_minutes: how far past the initial time limit players can go before they timeout\n",
        "* game_duration_seconds: how long the game lasted\n",
        "\n",
        "\n",
        "### Are there any missing entries?\n"
      ]
    },
    {
      "cell_type": "code",
      "execution_count": 8,
      "metadata": {
        "colab": {
          "base_uri": "https://localhost:8080/"
        },
        "id": "P-r14RLdU8-w",
        "outputId": "5c92e1c1-a6b9-483f-abbb-a895fff8fbc3"
      },
      "outputs": [
        {
          "data": {
            "text/plain": [
              "game_id                  0\n",
              "first                    0\n",
              "time_control_name        0\n",
              "game_end_reason          0\n",
              "winner                   0\n",
              "created_at               0\n",
              "lexicon                  0\n",
              "initial_time_seconds     0\n",
              "increment_seconds        0\n",
              "rating_mode              0\n",
              "max_overtime_minutes     0\n",
              "game_duration_seconds    0\n",
              "dtype: int64"
            ]
          },
          "execution_count": 8,
          "metadata": {},
          "output_type": "execute_result"
        }
      ],
      "source": [
        "games_data.isna().sum()"
      ]
    },
    {
      "cell_type": "markdown",
      "metadata": {
        "id": "ezC4lwwWb69Z"
      },
      "source": [
        "There are no mssing entries.\n",
        "\n",
        "### Visualizing `game_duration_seconds`"
      ]
    },
    {
      "cell_type": "code",
      "execution_count": 9,
      "metadata": {
        "colab": {
          "base_uri": "https://localhost:8080/",
          "height": 736
        },
        "id": "1tzT7plGdbl-",
        "outputId": "2e7d36d3-2b17-47ef-f34f-d3caeefdec44"
      },
      "outputs": [
        {
          "data": {
            "image/png": "[encoded data removed]",
            "text/plain": [
              "<Figure size 1000x1200 with 1 Axes>"
            ]
          },
          "metadata": {},
          "output_type": "display_data"
        }
      ],
      "source": [
        "fig, ax = plt.subplots(figsize=(10,12))\n",
        "ax = sns.histplot(data=games_data, x=\"game_duration_seconds\",binwidth=500)\n",
        "ax.set_title('Time taken for a game', fontsize=20)\n",
        "plt.show()"
      ]
    },
    {
      "cell_type": "markdown",
      "metadata": {
        "id": "0H1FSAWFgvPD"
      },
      "source": [
        "We can see that the game_duration is skewed to the right. Most games take less than 500 seconds.\n",
        "\n",
        "### Inspecting `created_at` feature:"
      ]
    },
    {
      "cell_type": "code",
      "execution_count": 10,
      "metadata": {
        "id": "Lr-m4rl9iWNo"
      },
      "outputs": [],
      "source": [
        "# Separating the date and time\n",
        "game_date = games_data.created_at.dt.date\n",
        "game_time = games_data.created_at.dt.time"
      ]
    },
    {
      "cell_type": "code",
      "execution_count": 11,
      "metadata": {
        "colab": {
          "base_uri": "https://localhost:8080/"
        },
        "id": "tkq-XaKGkhJe",
        "outputId": "13cd7178-8cc9-4dae-ab7e-2b6b9258ad64"
      },
      "outputs": [
        {
          "data": {
            "text/plain": [
              "59"
            ]
          },
          "execution_count": 11,
          "metadata": {},
          "output_type": "execute_result"
        }
      ],
      "source": [
        "# Unique dates\n",
        "x , y = np.unique(game_date, return_counts=True)\n",
        "\n",
        "len(x)"
      ]
    },
    {
      "cell_type": "markdown",
      "metadata": {
        "id": "ojMNK1mckkub"
      },
      "source": [
        "There are 59 unique days."
      ]
    },
    {
      "cell_type": "code",
      "execution_count": 12,
      "metadata": {
        "colab": {
          "base_uri": "https://localhost:8080/",
          "height": 612
        },
        "id": "jS8s0QsGjTAv",
        "outputId": "6d8c1091-a55a-4951-aea2-5461bd65db1c"
      },
      "outputs": [
        {
          "data": {
            "image/png": "[encoded data removed]",
            "text/plain": [
              "<Figure size 1200x1000 with 1 Axes>"
            ]
          },
          "metadata": {},
          "output_type": "display_data"
        }
      ],
      "source": [
        "fig, ax = plt.subplots(figsize = (12,10))\n",
        "ax = sns.lineplot(x=x, y=y)\n",
        "ax.set_title('Total games played', fontsize=20)\n",
        "plt.show()"
      ]
    },
    {
      "cell_type": "markdown",
      "metadata": {
        "id": "2kYXPVhxlEzs"
      },
      "source": [
        "Most games seem to have been played during September 2022."
      ]
    },
    {
      "cell_type": "code",
      "execution_count": 13,
      "metadata": {
        "colab": {
          "base_uri": "https://localhost:8080/",
          "height": 270
        },
        "id": "cu1PHrqdmo8g",
        "outputId": "a025a4c2-a316-4297-e748-2aa959682c58"
      },
      "outputs": [
        {
          "data": {
            "text/html": [
              "<div>\n",
              "<style scoped>\n",
              "    .dataframe tbody tr th:only-of-type {\n",
              "        vertical-align: middle;\n",
              "    }\n",
              "\n",
              "    .dataframe tbody tr th {\n",
              "        vertical-align: top;\n",
              "    }\n",
              "\n",
              "    .dataframe thead th {\n",
              "        text-align: right;\n",
              "    }\n",
              "</style>\n",
              "<table border=\"1\" class=\"dataframe\">\n",
              "  <thead>\n",
              "    <tr style=\"text-align: right;\">\n",
              "      <th></th>\n",
              "      <th>game_id</th>\n",
              "      <th>first</th>\n",
              "      <th>time_control_name</th>\n",
              "      <th>game_end_reason</th>\n",
              "      <th>winner</th>\n",
              "      <th>lexicon</th>\n",
              "      <th>initial_time_seconds</th>\n",
              "      <th>increment_seconds</th>\n",
              "      <th>rating_mode</th>\n",
              "      <th>max_overtime_minutes</th>\n",
              "      <th>game_duration_seconds</th>\n",
              "      <th>game_created_time</th>\n",
              "      <th>game_created_date</th>\n",
              "      <th>game_created_day</th>\n",
              "    </tr>\n",
              "  </thead>\n",
              "  <tbody>\n",
              "    <tr>\n",
              "      <th>0</th>\n",
              "      <td>1</td>\n",
              "      <td>BetterBot</td>\n",
              "      <td>regular</td>\n",
              "      <td>STANDARD</td>\n",
              "      <td>1</td>\n",
              "      <td>NWL20</td>\n",
              "      <td>1200</td>\n",
              "      <td>0</td>\n",
              "      <td>CASUAL</td>\n",
              "      <td>1</td>\n",
              "      <td>674.844274</td>\n",
              "      <td>03:38:49</td>\n",
              "      <td>2022-08-26</td>\n",
              "      <td>Friday</td>\n",
              "    </tr>\n",
              "    <tr>\n",
              "      <th>1</th>\n",
              "      <td>2</td>\n",
              "      <td>Super</td>\n",
              "      <td>regular</td>\n",
              "      <td>STANDARD</td>\n",
              "      <td>1</td>\n",
              "      <td>CSW21</td>\n",
              "      <td>3600</td>\n",
              "      <td>0</td>\n",
              "      <td>RATED</td>\n",
              "      <td>1</td>\n",
              "      <td>364.214418</td>\n",
              "      <td>19:19:59</td>\n",
              "      <td>2022-08-10</td>\n",
              "      <td>Wednesday</td>\n",
              "    </tr>\n",
              "    <tr>\n",
              "      <th>2</th>\n",
              "      <td>3</td>\n",
              "      <td>BetterBot</td>\n",
              "      <td>regular</td>\n",
              "      <td>STANDARD</td>\n",
              "      <td>1</td>\n",
              "      <td>CSW21</td>\n",
              "      <td>900</td>\n",
              "      <td>0</td>\n",
              "      <td>RATED</td>\n",
              "      <td>5</td>\n",
              "      <td>492.268262</td>\n",
              "      <td>08:04:27</td>\n",
              "      <td>2022-09-04</td>\n",
              "      <td>Sunday</td>\n",
              "    </tr>\n",
              "    <tr>\n",
              "      <th>3</th>\n",
              "      <td>4</td>\n",
              "      <td>BetterBot</td>\n",
              "      <td>regular</td>\n",
              "      <td>RESIGNED</td>\n",
              "      <td>0</td>\n",
              "      <td>CSW21</td>\n",
              "      <td>3600</td>\n",
              "      <td>0</td>\n",
              "      <td>CASUAL</td>\n",
              "      <td>1</td>\n",
              "      <td>350.861141</td>\n",
              "      <td>02:36:19</td>\n",
              "      <td>2022-09-12</td>\n",
              "      <td>Monday</td>\n",
              "    </tr>\n",
              "    <tr>\n",
              "      <th>4</th>\n",
              "      <td>5</td>\n",
              "      <td>STEEBot</td>\n",
              "      <td>regular</td>\n",
              "      <td>STANDARD</td>\n",
              "      <td>0</td>\n",
              "      <td>NWL20</td>\n",
              "      <td>1200</td>\n",
              "      <td>0</td>\n",
              "      <td>CASUAL</td>\n",
              "      <td>1</td>\n",
              "      <td>642.688722</td>\n",
              "      <td>04:31:36</td>\n",
              "      <td>2022-09-06</td>\n",
              "      <td>Tuesday</td>\n",
              "    </tr>\n",
              "  </tbody>\n",
              "</table>\n",
              "</div>"
            ],
            "text/plain": [
              "   game_id      first time_control_name game_end_reason  winner lexicon  \\\n",
              "0        1  BetterBot           regular        STANDARD       1   NWL20   \n",
              "1        2      Super           regular        STANDARD       1   CSW21   \n",
              "2        3  BetterBot           regular        STANDARD       1   CSW21   \n",
              "3        4  BetterBot           regular        RESIGNED       0   CSW21   \n",
              "4        5    STEEBot           regular        STANDARD       0   NWL20   \n",
              "\n",
              "   initial_time_seconds  increment_seconds rating_mode  max_overtime_minutes  \\\n",
              "0                  1200                  0      CASUAL                     1   \n",
              "1                  3600                  0       RATED                     1   \n",
              "2                   900                  0       RATED                     5   \n",
              "3                  3600                  0      CASUAL                     1   \n",
              "4                  1200                  0      CASUAL                     1   \n",
              "\n",
              "   game_duration_seconds game_created_time game_created_date game_created_day  \n",
              "0             674.844274          03:38:49        2022-08-26           Friday  \n",
              "1             364.214418          19:19:59        2022-08-10        Wednesday  \n",
              "2             492.268262          08:04:27        2022-09-04           Sunday  \n",
              "3             350.861141          02:36:19        2022-09-12           Monday  \n",
              "4             642.688722          04:31:36        2022-09-06          Tuesday  "
            ]
          },
          "execution_count": 13,
          "metadata": {},
          "output_type": "execute_result"
        }
      ],
      "source": [
        "temp_game_df = games_data.copy()\n",
        "\n",
        "temp_game_df['game_created_time'] = games_data.created_at.dt.time\n",
        "temp_game_df['game_created_date'] = games_data.created_at.dt.date\n",
        "temp_game_df['game_created_day'] = games_data.created_at.dt.strftime('%A')\n",
        "temp_game_df.drop(columns = 'created_at', inplace = True)\n",
        "\n",
        "temp_game_df.head()"
      ]
    },
    {
      "cell_type": "markdown",
      "metadata": {
        "id": "_4lkuNNwrX8b"
      },
      "source": [
        "### Inpecting `game_end_reason`:"
      ]
    },
    {
      "cell_type": "code",
      "execution_count": 14,
      "metadata": {
        "colab": {
          "base_uri": "https://localhost:8080/"
        },
        "id": "Kx86zBp6rd9T",
        "outputId": "c52c0b68-899e-4266-9b52-7602afbd419d"
      },
      "outputs": [
        {
          "name": "stdout",
          "output_type": "stream",
          "text": [
            "CONSECUTIVE_ZEROES has 238 values\n",
            "RESIGNED has 2346 values\n",
            "STANDARD has 67987 values\n",
            "TIME has 2202 values\n"
          ]
        }
      ],
      "source": [
        "k, v = np.unique(temp_game_df.game_end_reason, return_counts=True)\n",
        "\n",
        "for key, val in zip(k,v):\n",
        "  print(f'{key} has {val} values')"
      ]
    },
    {
      "cell_type": "markdown",
      "metadata": {
        "id": "u5cs6JnZuzmc"
      },
      "source": [
        "We can do the same for the `lexicon` and `rating_mode` features:"
      ]
    },
    {
      "cell_type": "code",
      "execution_count": 15,
      "metadata": {
        "colab": {
          "base_uri": "https://localhost:8080/"
        },
        "id": "cy7Ecmk9u4qi",
        "outputId": "22ddaf2c-6afa-4849-88ad-d31e63181c89"
      },
      "outputs": [
        {
          "name": "stdout",
          "output_type": "stream",
          "text": [
            "CSW21 has 44594 values\n",
            "ECWL has 6925 values\n",
            "NSWL20 has 4 values\n",
            "NWL20 has 21250 values\n"
          ]
        }
      ],
      "source": [
        "k, v = np.unique(temp_game_df.lexicon, return_counts=True)\n",
        "\n",
        "for key, val in zip(k,v):\n",
        "  print(f'{key} has {val} values')"
      ]
    },
    {
      "cell_type": "code",
      "execution_count": 16,
      "metadata": {
        "colab": {
          "base_uri": "https://localhost:8080/"
        },
        "id": "jL25qakXvJHa",
        "outputId": "73646eea-ad30-49ff-fe2c-891ebc31f3ac"
      },
      "outputs": [
        {
          "name": "stdout",
          "output_type": "stream",
          "text": [
            "CASUAL has 18697 values\n",
            "RATED has 54076 values\n"
          ]
        }
      ],
      "source": [
        "k, v = np.unique(temp_game_df.rating_mode, return_counts=True)\n",
        "\n",
        "for key, val in zip(k,v):\n",
        "  print(f'{key} has {val} values')"
      ]
    },
    {
      "cell_type": "markdown",
      "metadata": {
        "id": "WtbIObhwyLmW"
      },
      "source": [
        "## Exploring the `turns.csv` file\n",
        "\n",
        "The turns.csv contains full data for every turn for each game."
      ]
    },
    {
      "cell_type": "code",
      "execution_count": 17,
      "metadata": {},
      "outputs": [
        {
          "data": {
            "text/html": [
              "<div>\n",
              "<style scoped>\n",
              "    .dataframe tbody tr th:only-of-type {\n",
              "        vertical-align: middle;\n",
              "    }\n",
              "\n",
              "    .dataframe tbody tr th {\n",
              "        vertical-align: top;\n",
              "    }\n",
              "\n",
              "    .dataframe thead th {\n",
              "        text-align: right;\n",
              "    }\n",
              "</style>\n",
              "<table border=\"1\" class=\"dataframe\">\n",
              "  <thead>\n",
              "    <tr style=\"text-align: right;\">\n",
              "      <th></th>\n",
              "      <th>game_id</th>\n",
              "      <th>turn_number</th>\n",
              "      <th>nickname</th>\n",
              "      <th>rack</th>\n",
              "      <th>location</th>\n",
              "      <th>move</th>\n",
              "      <th>points</th>\n",
              "      <th>score</th>\n",
              "      <th>turn_type</th>\n",
              "    </tr>\n",
              "  </thead>\n",
              "  <tbody>\n",
              "    <tr>\n",
              "      <th>0</th>\n",
              "      <td>1</td>\n",
              "      <td>1</td>\n",
              "      <td>BetterBot</td>\n",
              "      <td>DDEGITT</td>\n",
              "      <td>8G</td>\n",
              "      <td>DIG</td>\n",
              "      <td>10</td>\n",
              "      <td>10</td>\n",
              "      <td>Play</td>\n",
              "    </tr>\n",
              "    <tr>\n",
              "      <th>1</th>\n",
              "      <td>1</td>\n",
              "      <td>2</td>\n",
              "      <td>stevy</td>\n",
              "      <td>AEHOPUX</td>\n",
              "      <td>7H</td>\n",
              "      <td>HAP</td>\n",
              "      <td>18</td>\n",
              "      <td>18</td>\n",
              "      <td>Play</td>\n",
              "    </tr>\n",
              "    <tr>\n",
              "      <th>2</th>\n",
              "      <td>1</td>\n",
              "      <td>3</td>\n",
              "      <td>BetterBot</td>\n",
              "      <td>DEELTTU</td>\n",
              "      <td>6I</td>\n",
              "      <td>LUTE</td>\n",
              "      <td>16</td>\n",
              "      <td>26</td>\n",
              "      <td>Play</td>\n",
              "    </tr>\n",
              "    <tr>\n",
              "      <th>3</th>\n",
              "      <td>1</td>\n",
              "      <td>4</td>\n",
              "      <td>stevy</td>\n",
              "      <td>EMORSUX</td>\n",
              "      <td>5K</td>\n",
              "      <td>UM</td>\n",
              "      <td>16</td>\n",
              "      <td>34</td>\n",
              "      <td>Play</td>\n",
              "    </tr>\n",
              "    <tr>\n",
              "      <th>4</th>\n",
              "      <td>1</td>\n",
              "      <td>5</td>\n",
              "      <td>BetterBot</td>\n",
              "      <td>ACDEITU</td>\n",
              "      <td>L5</td>\n",
              "      <td>..DICATE</td>\n",
              "      <td>28</td>\n",
              "      <td>54</td>\n",
              "      <td>Play</td>\n",
              "    </tr>\n",
              "  </tbody>\n",
              "</table>\n",
              "</div>"
            ],
            "text/plain": [
              "   game_id  turn_number   nickname     rack location      move  points  score  \\\n",
              "0        1            1  BetterBot  DDEGITT       8G       DIG      10     10   \n",
              "1        1            2      stevy  AEHOPUX       7H       HAP      18     18   \n",
              "2        1            3  BetterBot  DEELTTU       6I      LUTE      16     26   \n",
              "3        1            4      stevy  EMORSUX       5K        UM      16     34   \n",
              "4        1            5  BetterBot  ACDEITU       L5  ..DICATE      28     54   \n",
              "\n",
              "  turn_type  \n",
              "0      Play  \n",
              "1      Play  \n",
              "2      Play  \n",
              "3      Play  \n",
              "4      Play  "
            ]
          },
          "execution_count": 17,
          "metadata": {},
          "output_type": "execute_result"
        }
      ],
      "source": [
        "turns_data.head()"
      ]
    },
    {
      "cell_type": "code",
      "execution_count": 18,
      "metadata": {
        "colab": {
          "base_uri": "https://localhost:8080/"
        },
        "id": "sdRkrSTJ3Nhj",
        "outputId": "11386837-59a5-4a1f-c3e3-569571c36a47"
      },
      "outputs": [
        {
          "name": "stdout",
          "output_type": "stream",
          "text": [
            "<class 'pandas.core.frame.DataFrame'>\n",
            "RangeIndex: 2005498 entries, 0 to 2005497\n",
            "Data columns (total 9 columns):\n",
            " #   Column       Dtype \n",
            "---  ------       ----- \n",
            " 0   game_id      int64 \n",
            " 1   turn_number  int64 \n",
            " 2   nickname     object\n",
            " 3   rack         object\n",
            " 4   location     object\n",
            " 5   move         object\n",
            " 6   points       int64 \n",
            " 7   score        int64 \n",
            " 8   turn_type    object\n",
            "dtypes: int64(4), object(5)\n",
            "memory usage: 137.7+ MB\n"
          ]
        }
      ],
      "source": [
        "turns_data.info()"
      ]
    },
    {
      "cell_type": "code",
      "execution_count": 19,
      "metadata": {
        "colab": {
          "base_uri": "https://localhost:8080/"
        },
        "id": "v68Wu38T6MfR",
        "outputId": "584b3c29-8ab6-4daf-8423-ed9ee86f0904"
      },
      "outputs": [
        {
          "data": {
            "text/plain": [
              "(2005498, 9)"
            ]
          },
          "execution_count": 19,
          "metadata": {},
          "output_type": "execute_result"
        }
      ],
      "source": [
        "turns_data.shape"
      ]
    },
    {
      "cell_type": "markdown",
      "metadata": {
        "id": "SgCvVQ3Z6PuT"
      },
      "source": [
        "There are a total of 2005498 entries and 9 columns.\n",
        "\n",
        "Before proceeding any further, let us have a quick look at what each of these 9 columns mean:\n",
        "\n",
        "* game_id: unique id for the game\n",
        "* turn_number: the turn number in the game\n",
        "* nickname: the player's username on woogles.io\n",
        "* rack: the player's current rack\n",
        "* location: where the player places their turn on the board (NA for games in the test set or if the player didn't make a play, e.g., if they exchanged)\n",
        "* move: the tiles the player laid (NA for games in the test set; \"--\" if the turn_type was \"Pass\"; \"(challenge)\" if the turn_type was \"Challenge\"; \"-\" plus tiles exchanged if the turn_type was \"Exchange\"; at the end of the game, remaining tiles in a player's rack are in parentheses)\n",
        "* points: points the player earned (or lost) in their turn\n",
        "* score: the player's total score at the time of the turn\n",
        "* turn_type: the type of turn played (\"Play\", \"Exchange\", \"Pass\", \"Six-Zero Rule\" (i.e., a game that ends when players pass 3 turns in a row each), \"Challenge\")\n"
      ]
    },
    {
      "cell_type": "code",
      "execution_count": 20,
      "metadata": {
        "colab": {
          "base_uri": "https://localhost:8080/"
        },
        "id": "P4IFZ_XQH2tg",
        "outputId": "46c05301-3602-4f53-c5c7-ba5fee0bf4f3"
      },
      "outputs": [
        {
          "data": {
            "text/plain": [
              "game_id             0\n",
              "turn_number         0\n",
              "nickname            0\n",
              "rack            69390\n",
              "location       132239\n",
              "move              454\n",
              "points              0\n",
              "score               0\n",
              "turn_type         395\n",
              "dtype: int64"
            ]
          },
          "execution_count": 20,
          "metadata": {},
          "output_type": "execute_result"
        }
      ],
      "source": [
        "turns_data.isna().sum()"
      ]
    },
    {
      "cell_type": "markdown",
      "metadata": {
        "id": "che64-ohU1qA"
      },
      "source": [
        "There seem to be a lot of missing values. However, before we can try imputation, notice that some of the features are missing for test data entirely. So, even if we train on these features, since our training set doesnot have these features, we cannot do much with it."
      ]
    },
    {
      "cell_type": "markdown",
      "metadata": {
        "id": "5Y1N48TUVNIH"
      },
      "source": [
        "## Exploring training and test set"
      ]
    },
    {
      "cell_type": "code",
      "execution_count": 21,
      "metadata": {
        "colab": {
          "base_uri": "https://localhost:8080/",
          "height": 363
        },
        "id": "JgMoYUBvVSHY",
        "outputId": "0cee168a-54fe-4d26-8534-b93d78973293"
      },
      "outputs": [
        {
          "data": {
            "text/html": [
              "<div>\n",
              "<style scoped>\n",
              "    .dataframe tbody tr th:only-of-type {\n",
              "        vertical-align: middle;\n",
              "    }\n",
              "\n",
              "    .dataframe tbody tr th {\n",
              "        vertical-align: top;\n",
              "    }\n",
              "\n",
              "    .dataframe thead th {\n",
              "        text-align: right;\n",
              "    }\n",
              "</style>\n",
              "<table border=\"1\" class=\"dataframe\">\n",
              "  <thead>\n",
              "    <tr style=\"text-align: right;\">\n",
              "      <th></th>\n",
              "      <th>game_id</th>\n",
              "      <th>nickname</th>\n",
              "      <th>score</th>\n",
              "      <th>rating</th>\n",
              "    </tr>\n",
              "  </thead>\n",
              "  <tbody>\n",
              "    <tr>\n",
              "      <th>0</th>\n",
              "      <td>1</td>\n",
              "      <td>BetterBot</td>\n",
              "      <td>335</td>\n",
              "      <td>1637</td>\n",
              "    </tr>\n",
              "    <tr>\n",
              "      <th>1</th>\n",
              "      <td>1</td>\n",
              "      <td>stevy</td>\n",
              "      <td>429</td>\n",
              "      <td>1500</td>\n",
              "    </tr>\n",
              "    <tr>\n",
              "      <th>2</th>\n",
              "      <td>3</td>\n",
              "      <td>davidavid</td>\n",
              "      <td>440</td>\n",
              "      <td>1811</td>\n",
              "    </tr>\n",
              "    <tr>\n",
              "      <th>3</th>\n",
              "      <td>3</td>\n",
              "      <td>BetterBot</td>\n",
              "      <td>318</td>\n",
              "      <td>2071</td>\n",
              "    </tr>\n",
              "    <tr>\n",
              "      <th>4</th>\n",
              "      <td>4</td>\n",
              "      <td>Inandoutworker</td>\n",
              "      <td>119</td>\n",
              "      <td>1473</td>\n",
              "    </tr>\n",
              "    <tr>\n",
              "      <th>5</th>\n",
              "      <td>4</td>\n",
              "      <td>BetterBot</td>\n",
              "      <td>478</td>\n",
              "      <td>1936</td>\n",
              "    </tr>\n",
              "    <tr>\n",
              "      <th>6</th>\n",
              "      <td>5</td>\n",
              "      <td>stevy</td>\n",
              "      <td>325</td>\n",
              "      <td>1500</td>\n",
              "    </tr>\n",
              "    <tr>\n",
              "      <th>7</th>\n",
              "      <td>5</td>\n",
              "      <td>STEEBot</td>\n",
              "      <td>427</td>\n",
              "      <td>1844</td>\n",
              "    </tr>\n",
              "    <tr>\n",
              "      <th>8</th>\n",
              "      <td>6</td>\n",
              "      <td>HivinD</td>\n",
              "      <td>378</td>\n",
              "      <td>2029</td>\n",
              "    </tr>\n",
              "    <tr>\n",
              "      <th>9</th>\n",
              "      <td>6</td>\n",
              "      <td>STEEBot</td>\n",
              "      <td>427</td>\n",
              "      <td>2143</td>\n",
              "    </tr>\n",
              "  </tbody>\n",
              "</table>\n",
              "</div>"
            ],
            "text/plain": [
              "   game_id        nickname  score  rating\n",
              "0        1       BetterBot    335    1637\n",
              "1        1           stevy    429    1500\n",
              "2        3       davidavid    440    1811\n",
              "3        3       BetterBot    318    2071\n",
              "4        4  Inandoutworker    119    1473\n",
              "5        4       BetterBot    478    1936\n",
              "6        5           stevy    325    1500\n",
              "7        5         STEEBot    427    1844\n",
              "8        6          HivinD    378    2029\n",
              "9        6         STEEBot    427    2143"
            ]
          },
          "execution_count": 21,
          "metadata": {},
          "output_type": "execute_result"
        }
      ],
      "source": [
        "train_data.head(10)"
      ]
    },
    {
      "cell_type": "code",
      "execution_count": 22,
      "metadata": {
        "colab": {
          "base_uri": "https://localhost:8080/"
        },
        "id": "_s3QTFu8VWNS",
        "outputId": "247624f6-d73f-4bec-f97d-e4df56928f6f"
      },
      "outputs": [
        {
          "name": "stdout",
          "output_type": "stream",
          "text": [
            "<class 'pandas.core.frame.DataFrame'>\n",
            "RangeIndex: 100820 entries, 0 to 100819\n",
            "Data columns (total 4 columns):\n",
            " #   Column    Non-Null Count   Dtype \n",
            "---  ------    --------------   ----- \n",
            " 0   game_id   100820 non-null  int64 \n",
            " 1   nickname  100820 non-null  object\n",
            " 2   score     100820 non-null  int64 \n",
            " 3   rating    100820 non-null  int64 \n",
            "dtypes: int64(3), object(1)\n",
            "memory usage: 3.1+ MB\n"
          ]
        }
      ],
      "source": [
        "train_data.info()"
      ]
    },
    {
      "cell_type": "markdown",
      "metadata": {
        "id": "LVIEPuAxVjOh"
      },
      "source": [
        "There are no missing values"
      ]
    },
    {
      "cell_type": "markdown",
      "metadata": {
        "id": "AgLA2gaQFZMe"
      },
      "source": [
        "### Checking how many of each bots we have:"
      ]
    },
    {
      "cell_type": "code",
      "execution_count": 23,
      "metadata": {
        "id": "SorJMaJECPJc"
      },
      "outputs": [],
      "source": [
        "name, games_played = np.unique(train_data.nickname, return_counts= True)"
      ]
    },
    {
      "cell_type": "code",
      "execution_count": 24,
      "metadata": {
        "id": "nhnQSYF-DTy9"
      },
      "outputs": [],
      "source": [
        "bot_names = ['BetterBot', 'STEEBot', 'HastyBot']"
      ]
    },
    {
      "cell_type": "code",
      "execution_count": 25,
      "metadata": {
        "colab": {
          "base_uri": "https://localhost:8080/"
        },
        "id": "Rur3AlAQCi5o",
        "outputId": "977487b6-0f54-4ea6-e4ff-4a39cdd181b5"
      },
      "outputs": [
        {
          "data": {
            "text/plain": [
              "defaultdict(None, {'BetterBot': 16602, 'HastyBot': 17346, 'STEEBot': 16462})"
            ]
          },
          "execution_count": 25,
          "metadata": {},
          "output_type": "execute_result"
        }
      ],
      "source": [
        "bot_count = defaultdict()\n",
        "for n, g in zip(name, games_played):\n",
        "  for i in bot_names:\n",
        "    if n == i:\n",
        "      bot_count[n] = g\n",
        "\n",
        "bot_count"
      ]
    },
    {
      "cell_type": "code",
      "execution_count": 26,
      "metadata": {
        "colab": {
          "base_uri": "https://localhost:8080/",
          "height": 206
        },
        "id": "JqOMRJaMVl8q",
        "outputId": "b0263571-4f25-462d-b588-bed111125f92"
      },
      "outputs": [
        {
          "data": {
            "text/html": [
              "<div>\n",
              "<style scoped>\n",
              "    .dataframe tbody tr th:only-of-type {\n",
              "        vertical-align: middle;\n",
              "    }\n",
              "\n",
              "    .dataframe tbody tr th {\n",
              "        vertical-align: top;\n",
              "    }\n",
              "\n",
              "    .dataframe thead th {\n",
              "        text-align: right;\n",
              "    }\n",
              "</style>\n",
              "<table border=\"1\" class=\"dataframe\">\n",
              "  <thead>\n",
              "    <tr style=\"text-align: right;\">\n",
              "      <th></th>\n",
              "      <th>game_id</th>\n",
              "      <th>nickname</th>\n",
              "      <th>score</th>\n",
              "      <th>rating</th>\n",
              "    </tr>\n",
              "  </thead>\n",
              "  <tbody>\n",
              "    <tr>\n",
              "      <th>0</th>\n",
              "      <td>2</td>\n",
              "      <td>Super</td>\n",
              "      <td>488</td>\n",
              "      <td>NaN</td>\n",
              "    </tr>\n",
              "    <tr>\n",
              "      <th>1</th>\n",
              "      <td>2</td>\n",
              "      <td>BetterBot</td>\n",
              "      <td>401</td>\n",
              "      <td>2000.0</td>\n",
              "    </tr>\n",
              "    <tr>\n",
              "      <th>2</th>\n",
              "      <td>7</td>\n",
              "      <td>STEEBot</td>\n",
              "      <td>377</td>\n",
              "      <td>2082.0</td>\n",
              "    </tr>\n",
              "    <tr>\n",
              "      <th>3</th>\n",
              "      <td>7</td>\n",
              "      <td>Priya1</td>\n",
              "      <td>379</td>\n",
              "      <td>NaN</td>\n",
              "    </tr>\n",
              "    <tr>\n",
              "      <th>4</th>\n",
              "      <td>11</td>\n",
              "      <td>STEEBot</td>\n",
              "      <td>334</td>\n",
              "      <td>1829.0</td>\n",
              "    </tr>\n",
              "  </tbody>\n",
              "</table>\n",
              "</div>"
            ],
            "text/plain": [
              "   game_id   nickname  score  rating\n",
              "0        2      Super    488     NaN\n",
              "1        2  BetterBot    401  2000.0\n",
              "2        7    STEEBot    377  2082.0\n",
              "3        7     Priya1    379     NaN\n",
              "4       11    STEEBot    334  1829.0"
            ]
          },
          "execution_count": 26,
          "metadata": {},
          "output_type": "execute_result"
        }
      ],
      "source": [
        "test_data.head()"
      ]
    },
    {
      "cell_type": "code",
      "execution_count": 27,
      "metadata": {
        "colab": {
          "base_uri": "https://localhost:8080/"
        },
        "id": "I6gJBTlxVpwd",
        "outputId": "f7d558ad-2b06-4264-f5d5-be3511f13153"
      },
      "outputs": [
        {
          "name": "stdout",
          "output_type": "stream",
          "text": [
            "<class 'pandas.core.frame.DataFrame'>\n",
            "RangeIndex: 44726 entries, 0 to 44725\n",
            "Data columns (total 4 columns):\n",
            " #   Column    Non-Null Count  Dtype  \n",
            "---  ------    --------------  -----  \n",
            " 0   game_id   44726 non-null  int64  \n",
            " 1   nickname  44726 non-null  object \n",
            " 2   score     44726 non-null  int64  \n",
            " 3   rating    22363 non-null  float64\n",
            "dtypes: float64(1), int64(2), object(1)\n",
            "memory usage: 1.4+ MB\n"
          ]
        }
      ],
      "source": [
        "test_data.info()"
      ]
    },
    {
      "cell_type": "code",
      "execution_count": 28,
      "metadata": {
        "colab": {
          "base_uri": "https://localhost:8080/"
        },
        "id": "5m32PjZTV3SI",
        "outputId": "9ee54761-70dd-422f-dc6a-1ef1a3e85f3a"
      },
      "outputs": [
        {
          "data": {
            "text/plain": [
              "game_id         0\n",
              "nickname        0\n",
              "score           0\n",
              "rating      22363\n",
              "dtype: int64"
            ]
          },
          "execution_count": 28,
          "metadata": {},
          "output_type": "execute_result"
        }
      ],
      "source": [
        "test_data.isna().sum()"
      ]
    },
    {
      "cell_type": "markdown",
      "metadata": {
        "id": "Afd69hf0WAYZ"
      },
      "source": [
        "the missing 22363 ratings are what we need to predict. "
      ]
    },
    {
      "cell_type": "markdown",
      "metadata": {
        "id": "Argg4x-YWdDq"
      },
      "source": [
        "## Checking the `sample_submission.csv` to see what we need to output:"
      ]
    },
    {
      "cell_type": "code",
      "execution_count": 29,
      "metadata": {
        "colab": {
          "base_uri": "https://localhost:8080/",
          "height": 206
        },
        "id": "GbPBNsacWnxO",
        "outputId": "fe9497d6-6bc4-4659-b809-76bae73b1ec8"
      },
      "outputs": [
        {
          "data": {
            "text/html": [
              "<div>\n",
              "<style scoped>\n",
              "    .dataframe tbody tr th:only-of-type {\n",
              "        vertical-align: middle;\n",
              "    }\n",
              "\n",
              "    .dataframe tbody tr th {\n",
              "        vertical-align: top;\n",
              "    }\n",
              "\n",
              "    .dataframe thead th {\n",
              "        text-align: right;\n",
              "    }\n",
              "</style>\n",
              "<table border=\"1\" class=\"dataframe\">\n",
              "  <thead>\n",
              "    <tr style=\"text-align: right;\">\n",
              "      <th></th>\n",
              "      <th>game_id</th>\n",
              "      <th>rating</th>\n",
              "    </tr>\n",
              "  </thead>\n",
              "  <tbody>\n",
              "    <tr>\n",
              "      <th>0</th>\n",
              "      <td>2</td>\n",
              "      <td>1790.322674</td>\n",
              "    </tr>\n",
              "    <tr>\n",
              "      <th>1</th>\n",
              "      <td>7</td>\n",
              "      <td>1790.322674</td>\n",
              "    </tr>\n",
              "    <tr>\n",
              "      <th>2</th>\n",
              "      <td>11</td>\n",
              "      <td>1790.322674</td>\n",
              "    </tr>\n",
              "    <tr>\n",
              "      <th>3</th>\n",
              "      <td>14</td>\n",
              "      <td>1790.322674</td>\n",
              "    </tr>\n",
              "    <tr>\n",
              "      <th>4</th>\n",
              "      <td>27</td>\n",
              "      <td>1790.322674</td>\n",
              "    </tr>\n",
              "  </tbody>\n",
              "</table>\n",
              "</div>"
            ],
            "text/plain": [
              "   game_id       rating\n",
              "0        2  1790.322674\n",
              "1        7  1790.322674\n",
              "2       11  1790.322674\n",
              "3       14  1790.322674\n",
              "4       27  1790.322674"
            ]
          },
          "execution_count": 29,
          "metadata": {},
          "output_type": "execute_result"
        }
      ],
      "source": [
        "sample_submission.head()"
      ]
    },
    {
      "cell_type": "markdown",
      "metadata": {
        "id": "9kWo6WzpW2Oz"
      },
      "source": [
        "We already know the rating for the bots. Moreover, the games are only played between bots and human players. Each game has 2 rows: one for the bot and the other for the human player. "
      ]
    },
    {
      "cell_type": "markdown",
      "metadata": {
        "id": "fRvql5SABjdh"
      },
      "source": [
        "# Baseline Regression Model"
      ]
    },
    {
      "cell_type": "code",
      "execution_count": 30,
      "metadata": {
        "colab": {
          "base_uri": "https://localhost:8080/",
          "height": 206
        },
        "id": "c5kraytxBywy",
        "outputId": "114d6f10-f98a-4cb1-be54-e8ed991175d0"
      },
      "outputs": [
        {
          "data": {
            "text/html": [
              "<div>\n",
              "<style scoped>\n",
              "    .dataframe tbody tr th:only-of-type {\n",
              "        vertical-align: middle;\n",
              "    }\n",
              "\n",
              "    .dataframe tbody tr th {\n",
              "        vertical-align: top;\n",
              "    }\n",
              "\n",
              "    .dataframe thead th {\n",
              "        text-align: right;\n",
              "    }\n",
              "</style>\n",
              "<table border=\"1\" class=\"dataframe\">\n",
              "  <thead>\n",
              "    <tr style=\"text-align: right;\">\n",
              "      <th></th>\n",
              "      <th>game_id</th>\n",
              "      <th>nickname</th>\n",
              "      <th>score</th>\n",
              "      <th>rating</th>\n",
              "    </tr>\n",
              "  </thead>\n",
              "  <tbody>\n",
              "    <tr>\n",
              "      <th>0</th>\n",
              "      <td>1</td>\n",
              "      <td>BetterBot</td>\n",
              "      <td>335</td>\n",
              "      <td>1637</td>\n",
              "    </tr>\n",
              "    <tr>\n",
              "      <th>3</th>\n",
              "      <td>3</td>\n",
              "      <td>BetterBot</td>\n",
              "      <td>318</td>\n",
              "      <td>2071</td>\n",
              "    </tr>\n",
              "    <tr>\n",
              "      <th>5</th>\n",
              "      <td>4</td>\n",
              "      <td>BetterBot</td>\n",
              "      <td>478</td>\n",
              "      <td>1936</td>\n",
              "    </tr>\n",
              "    <tr>\n",
              "      <th>7</th>\n",
              "      <td>5</td>\n",
              "      <td>STEEBot</td>\n",
              "      <td>427</td>\n",
              "      <td>1844</td>\n",
              "    </tr>\n",
              "    <tr>\n",
              "      <th>9</th>\n",
              "      <td>6</td>\n",
              "      <td>STEEBot</td>\n",
              "      <td>427</td>\n",
              "      <td>2143</td>\n",
              "    </tr>\n",
              "  </tbody>\n",
              "</table>\n",
              "</div>"
            ],
            "text/plain": [
              "   game_id   nickname  score  rating\n",
              "0        1  BetterBot    335    1637\n",
              "3        3  BetterBot    318    2071\n",
              "5        4  BetterBot    478    1936\n",
              "7        5    STEEBot    427    1844\n",
              "9        6    STEEBot    427    2143"
            ]
          },
          "execution_count": 30,
          "metadata": {},
          "output_type": "execute_result"
        }
      ],
      "source": [
        "bot_data = train_data.loc[train_data['nickname'].isin(bot_names)].copy()\n",
        "bot_data.head()"
      ]
    },
    {
      "cell_type": "code",
      "execution_count": 31,
      "metadata": {
        "id": "vFDqWkaQHeCA"
      },
      "outputs": [],
      "source": [
        "bot_data.rename(columns={'nickname':'bot_nickname', 'score': 'bot_score', 'rating': 'bot_rating'}, inplace= True )"
      ]
    },
    {
      "cell_type": "code",
      "execution_count": 32,
      "metadata": {
        "colab": {
          "base_uri": "https://localhost:8080/",
          "height": 206
        },
        "id": "glNGjuLQGW8j",
        "outputId": "5d69affc-b04f-48d8-f8bb-723a3d5630db"
      },
      "outputs": [
        {
          "data": {
            "text/html": [
              "<div>\n",
              "<style scoped>\n",
              "    .dataframe tbody tr th:only-of-type {\n",
              "        vertical-align: middle;\n",
              "    }\n",
              "\n",
              "    .dataframe tbody tr th {\n",
              "        vertical-align: top;\n",
              "    }\n",
              "\n",
              "    .dataframe thead th {\n",
              "        text-align: right;\n",
              "    }\n",
              "</style>\n",
              "<table border=\"1\" class=\"dataframe\">\n",
              "  <thead>\n",
              "    <tr style=\"text-align: right;\">\n",
              "      <th></th>\n",
              "      <th>game_id</th>\n",
              "      <th>nickname</th>\n",
              "      <th>score</th>\n",
              "      <th>rating</th>\n",
              "    </tr>\n",
              "  </thead>\n",
              "  <tbody>\n",
              "    <tr>\n",
              "      <th>1</th>\n",
              "      <td>1</td>\n",
              "      <td>stevy</td>\n",
              "      <td>429</td>\n",
              "      <td>1500</td>\n",
              "    </tr>\n",
              "    <tr>\n",
              "      <th>2</th>\n",
              "      <td>3</td>\n",
              "      <td>davidavid</td>\n",
              "      <td>440</td>\n",
              "      <td>1811</td>\n",
              "    </tr>\n",
              "    <tr>\n",
              "      <th>4</th>\n",
              "      <td>4</td>\n",
              "      <td>Inandoutworker</td>\n",
              "      <td>119</td>\n",
              "      <td>1473</td>\n",
              "    </tr>\n",
              "    <tr>\n",
              "      <th>6</th>\n",
              "      <td>5</td>\n",
              "      <td>stevy</td>\n",
              "      <td>325</td>\n",
              "      <td>1500</td>\n",
              "    </tr>\n",
              "    <tr>\n",
              "      <th>8</th>\n",
              "      <td>6</td>\n",
              "      <td>HivinD</td>\n",
              "      <td>378</td>\n",
              "      <td>2029</td>\n",
              "    </tr>\n",
              "  </tbody>\n",
              "</table>\n",
              "</div>"
            ],
            "text/plain": [
              "   game_id        nickname  score  rating\n",
              "1        1           stevy    429    1500\n",
              "2        3       davidavid    440    1811\n",
              "4        4  Inandoutworker    119    1473\n",
              "6        5           stevy    325    1500\n",
              "8        6          HivinD    378    2029"
            ]
          },
          "execution_count": 32,
          "metadata": {},
          "output_type": "execute_result"
        }
      ],
      "source": [
        "human_data = train_data.loc[~train_data['nickname'].isin(bot_names)].copy()\n",
        "human_data.head()"
      ]
    },
    {
      "cell_type": "code",
      "execution_count": 33,
      "metadata": {
        "id": "r3L5TU_7ITx3"
      },
      "outputs": [],
      "source": [
        "# Join the two dataframe\n",
        "training_data = human_data.join(bot_data.set_index('game_id'), on='game_id')\n",
        "\n",
        "# Move the rating column to the end\n",
        "column_to_move = training_data.pop(\"rating\")\n",
        "\n",
        "training_data.insert(6, \"rating\", column_to_move)"
      ]
    },
    {
      "cell_type": "code",
      "execution_count": 34,
      "metadata": {
        "colab": {
          "base_uri": "https://localhost:8080/",
          "height": 206
        },
        "id": "lrJWoBoPJkim",
        "outputId": "e291976e-6b94-45c8-f257-b36068a788b6"
      },
      "outputs": [
        {
          "data": {
            "text/html": [
              "<div>\n",
              "<style scoped>\n",
              "    .dataframe tbody tr th:only-of-type {\n",
              "        vertical-align: middle;\n",
              "    }\n",
              "\n",
              "    .dataframe tbody tr th {\n",
              "        vertical-align: top;\n",
              "    }\n",
              "\n",
              "    .dataframe thead th {\n",
              "        text-align: right;\n",
              "    }\n",
              "</style>\n",
              "<table border=\"1\" class=\"dataframe\">\n",
              "  <thead>\n",
              "    <tr style=\"text-align: right;\">\n",
              "      <th></th>\n",
              "      <th>game_id</th>\n",
              "      <th>nickname</th>\n",
              "      <th>score</th>\n",
              "      <th>bot_nickname</th>\n",
              "      <th>bot_score</th>\n",
              "      <th>bot_rating</th>\n",
              "      <th>rating</th>\n",
              "    </tr>\n",
              "  </thead>\n",
              "  <tbody>\n",
              "    <tr>\n",
              "      <th>1</th>\n",
              "      <td>1</td>\n",
              "      <td>stevy</td>\n",
              "      <td>429</td>\n",
              "      <td>BetterBot</td>\n",
              "      <td>335</td>\n",
              "      <td>1637</td>\n",
              "      <td>1500</td>\n",
              "    </tr>\n",
              "    <tr>\n",
              "      <th>2</th>\n",
              "      <td>3</td>\n",
              "      <td>davidavid</td>\n",
              "      <td>440</td>\n",
              "      <td>BetterBot</td>\n",
              "      <td>318</td>\n",
              "      <td>2071</td>\n",
              "      <td>1811</td>\n",
              "    </tr>\n",
              "    <tr>\n",
              "      <th>4</th>\n",
              "      <td>4</td>\n",
              "      <td>Inandoutworker</td>\n",
              "      <td>119</td>\n",
              "      <td>BetterBot</td>\n",
              "      <td>478</td>\n",
              "      <td>1936</td>\n",
              "      <td>1473</td>\n",
              "    </tr>\n",
              "    <tr>\n",
              "      <th>6</th>\n",
              "      <td>5</td>\n",
              "      <td>stevy</td>\n",
              "      <td>325</td>\n",
              "      <td>STEEBot</td>\n",
              "      <td>427</td>\n",
              "      <td>1844</td>\n",
              "      <td>1500</td>\n",
              "    </tr>\n",
              "    <tr>\n",
              "      <th>8</th>\n",
              "      <td>6</td>\n",
              "      <td>HivinD</td>\n",
              "      <td>378</td>\n",
              "      <td>STEEBot</td>\n",
              "      <td>427</td>\n",
              "      <td>2143</td>\n",
              "      <td>2029</td>\n",
              "    </tr>\n",
              "  </tbody>\n",
              "</table>\n",
              "</div>"
            ],
            "text/plain": [
              "   game_id        nickname  score bot_nickname  bot_score  bot_rating  rating\n",
              "1        1           stevy    429    BetterBot        335        1637    1500\n",
              "2        3       davidavid    440    BetterBot        318        2071    1811\n",
              "4        4  Inandoutworker    119    BetterBot        478        1936    1473\n",
              "6        5           stevy    325      STEEBot        427        1844    1500\n",
              "8        6          HivinD    378      STEEBot        427        2143    2029"
            ]
          },
          "execution_count": 34,
          "metadata": {},
          "output_type": "execute_result"
        }
      ],
      "source": [
        "training_data.head()"
      ]
    },
    {
      "cell_type": "markdown",
      "metadata": {
        "id": "jDMypsGyLGMI"
      },
      "source": [
        "This will be our initial training dataset.\n",
        "\n",
        "### Data Preprocessing\n",
        "\n",
        "* Dropping the nickname and game_id columns since it is unique and will not help with the model training:"
      ]
    },
    {
      "cell_type": "code",
      "execution_count": 35,
      "metadata": {
        "id": "lIJX6U-AL02q"
      },
      "outputs": [],
      "source": [
        "training_data.drop(columns=[\"nickname\", 'game_id'], inplace=True)"
      ]
    },
    {
      "cell_type": "markdown",
      "metadata": {
        "id": "IUlmANMNMIxL"
      },
      "source": [
        "* Converting the bot_nickname feature:"
      ]
    },
    {
      "cell_type": "code",
      "execution_count": 36,
      "metadata": {
        "id": "WXgZu58oLb-O"
      },
      "outputs": [],
      "source": [
        "training_data = pd.get_dummies(training_data, drop_first=True)"
      ]
    },
    {
      "cell_type": "markdown",
      "metadata": {
        "id": "sVB0tu1ZNWVW"
      },
      "source": [
        "* seperating the rating feture and Standardizing the numeric features:"
      ]
    },
    {
      "cell_type": "code",
      "execution_count": 37,
      "metadata": {
        "id": "jXlt_rkgNekw"
      },
      "outputs": [],
      "source": [
        "train_y = training_data[\"rating\"]\n",
        "\n",
        "training_data.drop(columns=\"rating\", inplace=True)"
      ]
    },
    {
      "cell_type": "code",
      "execution_count": 38,
      "metadata": {
        "id": "eputDi0WNtLy"
      },
      "outputs": [],
      "source": [
        "from sklearn.preprocessing import  StandardScaler\n",
        "from sklearn.model_selection import train_test_split"
      ]
    },
    {
      "cell_type": "code",
      "execution_count": 39,
      "metadata": {
        "id": "lGhx52t-Nx3z"
      },
      "outputs": [],
      "source": [
        "std = StandardScaler()\n",
        "\n",
        "scaled_training = training_data.copy()\n",
        "col_names = ['score', 'bot_score','bot_rating']\n",
        "features = scaled_training[col_names]\n",
        "scaler = StandardScaler().fit_transform(features.values)\n",
        "\n",
        "scaled_training[col_names] = scaler"
      ]
    },
    {
      "cell_type": "code",
      "execution_count": 40,
      "metadata": {
        "colab": {
          "base_uri": "https://localhost:8080/",
          "height": 206
        },
        "id": "i5wmFjgXONWO",
        "outputId": "8c31871f-f3bf-47fc-d805-cdd7d54593a3"
      },
      "outputs": [
        {
          "data": {
            "text/html": [
              "<div>\n",
              "<style scoped>\n",
              "    .dataframe tbody tr th:only-of-type {\n",
              "        vertical-align: middle;\n",
              "    }\n",
              "\n",
              "    .dataframe tbody tr th {\n",
              "        vertical-align: top;\n",
              "    }\n",
              "\n",
              "    .dataframe thead th {\n",
              "        text-align: right;\n",
              "    }\n",
              "</style>\n",
              "<table border=\"1\" class=\"dataframe\">\n",
              "  <thead>\n",
              "    <tr style=\"text-align: right;\">\n",
              "      <th></th>\n",
              "      <th>score</th>\n",
              "      <th>bot_score</th>\n",
              "      <th>bot_rating</th>\n",
              "      <th>bot_nickname_HastyBot</th>\n",
              "      <th>bot_nickname_STEEBot</th>\n",
              "    </tr>\n",
              "  </thead>\n",
              "  <tbody>\n",
              "    <tr>\n",
              "      <th>1</th>\n",
              "      <td>0.727804</td>\n",
              "      <td>-1.235350</td>\n",
              "      <td>-1.615941</td>\n",
              "      <td>0</td>\n",
              "      <td>0</td>\n",
              "    </tr>\n",
              "    <tr>\n",
              "      <th>2</th>\n",
              "      <td>0.879031</td>\n",
              "      <td>-1.476747</td>\n",
              "      <td>0.549536</td>\n",
              "      <td>0</td>\n",
              "      <td>0</td>\n",
              "    </tr>\n",
              "    <tr>\n",
              "      <th>4</th>\n",
              "      <td>-3.534045</td>\n",
              "      <td>0.795230</td>\n",
              "      <td>-0.124057</td>\n",
              "      <td>0</td>\n",
              "      <td>0</td>\n",
              "    </tr>\n",
              "    <tr>\n",
              "      <th>6</th>\n",
              "      <td>-0.701978</td>\n",
              "      <td>0.071037</td>\n",
              "      <td>-0.583098</td>\n",
              "      <td>0</td>\n",
              "      <td>1</td>\n",
              "    </tr>\n",
              "    <tr>\n",
              "      <th>8</th>\n",
              "      <td>0.026661</td>\n",
              "      <td>0.071037</td>\n",
              "      <td>0.908786</td>\n",
              "      <td>0</td>\n",
              "      <td>1</td>\n",
              "    </tr>\n",
              "  </tbody>\n",
              "</table>\n",
              "</div>"
            ],
            "text/plain": [
              "      score  bot_score  bot_rating  bot_nickname_HastyBot  \\\n",
              "1  0.727804  -1.235350   -1.615941                      0   \n",
              "2  0.879031  -1.476747    0.549536                      0   \n",
              "4 -3.534045   0.795230   -0.124057                      0   \n",
              "6 -0.701978   0.071037   -0.583098                      0   \n",
              "8  0.026661   0.071037    0.908786                      0   \n",
              "\n",
              "   bot_nickname_STEEBot  \n",
              "1                     0  \n",
              "2                     0  \n",
              "4                     0  \n",
              "6                     1  \n",
              "8                     1  "
            ]
          },
          "execution_count": 40,
          "metadata": {},
          "output_type": "execute_result"
        }
      ],
      "source": [
        "scaled_training.head()"
      ]
    },
    {
      "cell_type": "markdown",
      "metadata": {
        "id": "_q8MHXR5RFk3"
      },
      "source": [
        "We will use Random Forest as our basline: "
      ]
    },
    {
      "cell_type": "code",
      "execution_count": 41,
      "metadata": {
        "id": "_VnAsM0VSGGH"
      },
      "outputs": [],
      "source": [
        "X_train, X_test, y_train, y_test = train_test_split(scaled_training, train_y, test_size=0.3, random_state=123)"
      ]
    },
    {
      "cell_type": "code",
      "execution_count": 42,
      "metadata": {
        "id": "eIpLtMbmSTia"
      },
      "outputs": [],
      "source": [
        "from sklearn.ensemble import RandomForestRegressor"
      ]
    },
    {
      "cell_type": "code",
      "execution_count": 43,
      "metadata": {
        "id": "8D4wEiHzTOVi"
      },
      "outputs": [
        {
          "data": {
            "text/plain": [
              "RandomForestRegressor(n_estimators=500, random_state=123)"
            ]
          },
          "execution_count": 43,
          "metadata": {},
          "output_type": "execute_result"
        }
      ],
      "source": [
        "rf = RandomForestRegressor(random_state=123, n_estimators=500, criterion='squared_error')\n",
        "\n",
        "rf.fit(X_train, y_train)"
      ]
    },
    {
      "cell_type": "code",
      "execution_count": 44,
      "metadata": {
        "colab": {
          "base_uri": "https://localhost:8080/"
        },
        "id": "PKOVk7KgUd6f",
        "outputId": "17fbcb22-b874-466e-9102-cb7418c770e0"
      },
      "outputs": [
        {
          "data": {
            "text/plain": [
              "0.5921070364105625"
            ]
          },
          "execution_count": 44,
          "metadata": {},
          "output_type": "execute_result"
        }
      ],
      "source": [
        "rf.score(X_test, y_test)"
      ]
    },
    {
      "cell_type": "code",
      "execution_count": 45,
      "metadata": {
        "colab": {
          "base_uri": "https://localhost:8080/",
          "height": 206
        },
        "id": "L4mC2tj-UqyP",
        "outputId": "09cbdc60-d849-4e8d-dc2c-1d9bb7c9bc01"
      },
      "outputs": [
        {
          "data": {
            "text/html": [
              "<div>\n",
              "<style scoped>\n",
              "    .dataframe tbody tr th:only-of-type {\n",
              "        vertical-align: middle;\n",
              "    }\n",
              "\n",
              "    .dataframe tbody tr th {\n",
              "        vertical-align: top;\n",
              "    }\n",
              "\n",
              "    .dataframe thead th {\n",
              "        text-align: right;\n",
              "    }\n",
              "</style>\n",
              "<table border=\"1\" class=\"dataframe\">\n",
              "  <thead>\n",
              "    <tr style=\"text-align: right;\">\n",
              "      <th></th>\n",
              "      <th>game_id</th>\n",
              "      <th>nickname</th>\n",
              "      <th>score</th>\n",
              "      <th>rating</th>\n",
              "    </tr>\n",
              "  </thead>\n",
              "  <tbody>\n",
              "    <tr>\n",
              "      <th>1</th>\n",
              "      <td>2</td>\n",
              "      <td>BetterBot</td>\n",
              "      <td>401</td>\n",
              "      <td>2000.0</td>\n",
              "    </tr>\n",
              "    <tr>\n",
              "      <th>2</th>\n",
              "      <td>7</td>\n",
              "      <td>STEEBot</td>\n",
              "      <td>377</td>\n",
              "      <td>2082.0</td>\n",
              "    </tr>\n",
              "    <tr>\n",
              "      <th>4</th>\n",
              "      <td>11</td>\n",
              "      <td>STEEBot</td>\n",
              "      <td>334</td>\n",
              "      <td>1829.0</td>\n",
              "    </tr>\n",
              "    <tr>\n",
              "      <th>6</th>\n",
              "      <td>14</td>\n",
              "      <td>STEEBot</td>\n",
              "      <td>403</td>\n",
              "      <td>2136.0</td>\n",
              "    </tr>\n",
              "    <tr>\n",
              "      <th>9</th>\n",
              "      <td>27</td>\n",
              "      <td>HastyBot</td>\n",
              "      <td>453</td>\n",
              "      <td>2258.0</td>\n",
              "    </tr>\n",
              "  </tbody>\n",
              "</table>\n",
              "</div>"
            ],
            "text/plain": [
              "   game_id   nickname  score  rating\n",
              "1        2  BetterBot    401  2000.0\n",
              "2        7    STEEBot    377  2082.0\n",
              "4       11    STEEBot    334  1829.0\n",
              "6       14    STEEBot    403  2136.0\n",
              "9       27   HastyBot    453  2258.0"
            ]
          },
          "execution_count": 45,
          "metadata": {},
          "output_type": "execute_result"
        }
      ],
      "source": [
        "bot_test_data = test_data.loc[test_data['nickname'].isin(bot_names)].copy()\n",
        "bot_test_data.head()"
      ]
    },
    {
      "cell_type": "code",
      "execution_count": 46,
      "metadata": {
        "id": "JMJMkGGbVRJN"
      },
      "outputs": [],
      "source": [
        "bot_test_data.rename(columns={'nickname':'bot_nickname', 'score': 'bot_score', 'rating': 'bot_rating'}, inplace= True )"
      ]
    },
    {
      "cell_type": "code",
      "execution_count": 47,
      "metadata": {
        "colab": {
          "base_uri": "https://localhost:8080/",
          "height": 206
        },
        "id": "70Fv5GVEVWfx",
        "outputId": "116f93ab-7a2b-439f-fa70-16af50b2df38"
      },
      "outputs": [
        {
          "data": {
            "text/html": [
              "<div>\n",
              "<style scoped>\n",
              "    .dataframe tbody tr th:only-of-type {\n",
              "        vertical-align: middle;\n",
              "    }\n",
              "\n",
              "    .dataframe tbody tr th {\n",
              "        vertical-align: top;\n",
              "    }\n",
              "\n",
              "    .dataframe thead th {\n",
              "        text-align: right;\n",
              "    }\n",
              "</style>\n",
              "<table border=\"1\" class=\"dataframe\">\n",
              "  <thead>\n",
              "    <tr style=\"text-align: right;\">\n",
              "      <th></th>\n",
              "      <th>game_id</th>\n",
              "      <th>nickname</th>\n",
              "      <th>score</th>\n",
              "      <th>rating</th>\n",
              "    </tr>\n",
              "  </thead>\n",
              "  <tbody>\n",
              "    <tr>\n",
              "      <th>0</th>\n",
              "      <td>2</td>\n",
              "      <td>Super</td>\n",
              "      <td>488</td>\n",
              "      <td>NaN</td>\n",
              "    </tr>\n",
              "    <tr>\n",
              "      <th>3</th>\n",
              "      <td>7</td>\n",
              "      <td>Priya1</td>\n",
              "      <td>379</td>\n",
              "      <td>NaN</td>\n",
              "    </tr>\n",
              "    <tr>\n",
              "      <th>5</th>\n",
              "      <td>11</td>\n",
              "      <td>TileRunner</td>\n",
              "      <td>462</td>\n",
              "      <td>NaN</td>\n",
              "    </tr>\n",
              "    <tr>\n",
              "      <th>7</th>\n",
              "      <td>14</td>\n",
              "      <td>Anfield223</td>\n",
              "      <td>359</td>\n",
              "      <td>NaN</td>\n",
              "    </tr>\n",
              "    <tr>\n",
              "      <th>8</th>\n",
              "      <td>27</td>\n",
              "      <td>friesbasil</td>\n",
              "      <td>456</td>\n",
              "      <td>NaN</td>\n",
              "    </tr>\n",
              "  </tbody>\n",
              "</table>\n",
              "</div>"
            ],
            "text/plain": [
              "   game_id    nickname  score  rating\n",
              "0        2       Super    488     NaN\n",
              "3        7      Priya1    379     NaN\n",
              "5       11  TileRunner    462     NaN\n",
              "7       14  Anfield223    359     NaN\n",
              "8       27  friesbasil    456     NaN"
            ]
          },
          "execution_count": 47,
          "metadata": {},
          "output_type": "execute_result"
        }
      ],
      "source": [
        "human_test_data = test_data.loc[~test_data['nickname'].isin(bot_names)].copy()\n",
        "human_test_data.head()"
      ]
    },
    {
      "cell_type": "code",
      "execution_count": 48,
      "metadata": {
        "id": "ETgSGdZ-Vfwp"
      },
      "outputs": [],
      "source": [
        "# Join the two dataframe\n",
        "testing_data = human_test_data.join(bot_test_data.set_index('game_id'), on='game_id')\n",
        "\n",
        "# Move the rating column to the end\n",
        "column_to_move = testing_data.pop(\"rating\")\n",
        "\n",
        "testing_data.insert(6, \"rating\", column_to_move)"
      ]
    },
    {
      "cell_type": "code",
      "execution_count": 49,
      "metadata": {
        "id": "9pp6pbd1VtMs"
      },
      "outputs": [],
      "source": [
        "testing_data.drop(columns=[\"nickname\", 'game_id'], inplace=True)"
      ]
    },
    {
      "cell_type": "code",
      "execution_count": 50,
      "metadata": {
        "id": "xXJdpjqdWHQN"
      },
      "outputs": [],
      "source": [
        "scaled_testing = testing_data.copy()\n",
        "col_names = ['score', 'bot_score','bot_rating']\n",
        "features = scaled_testing[col_names]\n",
        "scaler = StandardScaler().fit_transform(features.values)\n",
        "\n",
        "scaled_testing[col_names] = scaler"
      ]
    },
    {
      "cell_type": "code",
      "execution_count": 51,
      "metadata": {
        "id": "U0E385ORWgNf"
      },
      "outputs": [],
      "source": [
        "scaled_testing = pd.get_dummies(scaled_testing, drop_first=True)\n",
        "\n",
        "scaled_testing.drop(columns=\"rating\", inplace=True)"
      ]
    },
    {
      "cell_type": "code",
      "execution_count": 52,
      "metadata": {
        "id": "LKZV7SffWVZd"
      },
      "outputs": [],
      "source": [
        "rating = rf.predict(scaled_testing)"
      ]
    },
    {
      "cell_type": "code",
      "execution_count": 53,
      "metadata": {
        "id": "Z5DXGrMvWauk"
      },
      "outputs": [],
      "source": [
        "sample_submission['rating'] = rating"
      ]
    },
    {
      "cell_type": "code",
      "execution_count": 54,
      "metadata": {
        "colab": {
          "base_uri": "https://localhost:8080/",
          "height": 206
        },
        "id": "y67guUQBXi-x",
        "outputId": "038466a4-17d3-4832-ae83-df8a114b7b1e"
      },
      "outputs": [
        {
          "data": {
            "text/html": [
              "<div>\n",
              "<style scoped>\n",
              "    .dataframe tbody tr th:only-of-type {\n",
              "        vertical-align: middle;\n",
              "    }\n",
              "\n",
              "    .dataframe tbody tr th {\n",
              "        vertical-align: top;\n",
              "    }\n",
              "\n",
              "    .dataframe thead th {\n",
              "        text-align: right;\n",
              "    }\n",
              "</style>\n",
              "<table border=\"1\" class=\"dataframe\">\n",
              "  <thead>\n",
              "    <tr style=\"text-align: right;\">\n",
              "      <th></th>\n",
              "      <th>game_id</th>\n",
              "      <th>rating</th>\n",
              "    </tr>\n",
              "  </thead>\n",
              "  <tbody>\n",
              "    <tr>\n",
              "      <th>0</th>\n",
              "      <td>2</td>\n",
              "      <td>2045.036</td>\n",
              "    </tr>\n",
              "    <tr>\n",
              "      <th>1</th>\n",
              "      <td>7</td>\n",
              "      <td>1944.730</td>\n",
              "    </tr>\n",
              "    <tr>\n",
              "      <th>2</th>\n",
              "      <td>11</td>\n",
              "      <td>1748.290</td>\n",
              "    </tr>\n",
              "    <tr>\n",
              "      <th>3</th>\n",
              "      <td>14</td>\n",
              "      <td>2016.828</td>\n",
              "    </tr>\n",
              "    <tr>\n",
              "      <th>4</th>\n",
              "      <td>27</td>\n",
              "      <td>2019.142</td>\n",
              "    </tr>\n",
              "  </tbody>\n",
              "</table>\n",
              "</div>"
            ],
            "text/plain": [
              "   game_id    rating\n",
              "0        2  2045.036\n",
              "1        7  1944.730\n",
              "2       11  1748.290\n",
              "3       14  2016.828\n",
              "4       27  2019.142"
            ]
          },
          "execution_count": 54,
          "metadata": {},
          "output_type": "execute_result"
        }
      ],
      "source": [
        "sample_submission.head()"
      ]
    },
    {
      "cell_type": "markdown",
      "metadata": {
        "id": "i3UryxwWX14k"
      },
      "source": [
        "# Submit predictions using the Kaggle Api"
      ]
    },
    {
      "cell_type": "code",
      "execution_count": 55,
      "metadata": {},
      "outputs": [],
      "source": [
        "prediction_path = os.path.join('predictions', 'baseline.csv')"
      ]
    },
    {
      "cell_type": "code",
      "execution_count": 56,
      "metadata": {
        "id": "X5xqECzhX1Ru"
      },
      "outputs": [],
      "source": [
        "sample_submission.to_csv(prediction_path, index = False)"
      ]
    }
  ],
  "metadata": {
    "colab": {
      "authorship_tag": "ABX9TyMZhxCcFMcDRkRNkRuo4Y5q",
      "provenance": []
    },
    "kernelspec": {
      "display_name": "Python ('Scrabble')",
      "language": "python",
      "name": "python3"
    },
    "language_info": {
      "codemirror_mode": {
        "name": "ipython",
        "version": 3
      },
      "file_extension": ".py",
      "mimetype": "text/x-python",
      "name": "python",
      "nbconvert_exporter": "python",
      "pygments_lexer": "ipython3",
      "version": "3.9.13"
    },
    "vscode": {
      "interpreter": {
        "hash": "25a19fbe0a9132dfb9279d48d161753c6352f8f9478c2e74383d340069b907c3"
      }
    }
  },
  "nbformat": 4,
  "nbformat_minor": 0
}
